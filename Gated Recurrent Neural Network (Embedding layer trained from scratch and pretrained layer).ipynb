{
 "cells": [
  {
   "cell_type": "code",
   "execution_count": 50,
   "metadata": {},
   "outputs": [],
   "source": [
    "# Import packages\n",
    "import pandas as pd\n",
    "import numpy as np\n",
    "#from w2v_utils import *\n",
    "import matplotlib.pyplot as plt\n",
    "%matplotlib inline\n",
    "import string\n",
    "import re # regular expresson package\n",
    "# Import NLP packages\n",
    "import nltk\n",
    "from nltk.stem import WordNetLemmatizer\n",
    "from nltk.corpus import stopwords\n",
    "# Import sklearn packages\n",
    "from sklearn.preprocessing import LabelEncoder\n",
    "from sklearn.model_selection import train_test_split\n",
    "from sklearn.metrics import classification_report, precision_recall_curve, confusion_matrix\n",
    "from sklearn.feature_extraction.text import TfidfVectorizer\n",
    "from sklearn import svm\n",
    "import pickle\n",
    "# Import keras for NN implementation\n",
    "from keras.layers import Dense, Input, LSTM, Embedding, Dropout, Activation, GRU\n",
    "from keras.layers import Bidirectional, GlobalMaxPool1D\n",
    "from keras.models import Model\n",
    "from keras import initializers, regularizers, constraints, optimizers, layers\n",
    "from keras.preprocessing.text import Tokenizer\n",
    "from keras.preprocessing.sequence import pad_sequences\n",
    "import random  "
   ]
  },
  {
   "cell_type": "code",
   "execution_count": 51,
   "metadata": {},
   "outputs": [],
   "source": [
    "## vectorization CountVectorizer()\n",
    "with open('train_data.pkl', 'rb') as f:\n",
    "      X_tr, y_tr = pickle.load(f)\n",
    "        \n",
    "with open('test_data.pkl', 'rb') as f:\n",
    "      X_te, y_te = pickle.load(f)\n",
    "        \n",
    "## vectorization TfidfVectorizer()\n",
    "with open('train_data2.pkl', 'rb') as f:\n",
    "      X_tr2, y_tr2 = pickle.load(f)\n",
    "        \n",
    "with open('test_data2.pkl', 'rb') as f:\n",
    "      X_te2, y_te2 = pickle.load(f)"
   ]
  },
  {
   "cell_type": "code",
   "execution_count": 52,
   "metadata": {},
   "outputs": [
    {
     "name": "stdout",
     "output_type": "stream",
     "text": [
      "The data has 5572 row(s) and  2 column(s)\n"
     ]
    },
    {
     "data": {
      "text/html": [
       "<div>\n",
       "<style scoped>\n",
       "    .dataframe tbody tr th:only-of-type {\n",
       "        vertical-align: middle;\n",
       "    }\n",
       "\n",
       "    .dataframe tbody tr th {\n",
       "        vertical-align: top;\n",
       "    }\n",
       "\n",
       "    .dataframe thead th {\n",
       "        text-align: right;\n",
       "    }\n",
       "</style>\n",
       "<table border=\"1\" class=\"dataframe\">\n",
       "  <thead>\n",
       "    <tr style=\"text-align: right;\">\n",
       "      <th></th>\n",
       "      <th>label</th>\n",
       "      <th>text</th>\n",
       "    </tr>\n",
       "  </thead>\n",
       "  <tbody>\n",
       "    <tr>\n",
       "      <td>0</td>\n",
       "      <td>ham</td>\n",
       "      <td>Go until jurong point, crazy.. Available only ...</td>\n",
       "    </tr>\n",
       "    <tr>\n",
       "      <td>1</td>\n",
       "      <td>ham</td>\n",
       "      <td>Ok lar... Joking wif u oni...</td>\n",
       "    </tr>\n",
       "    <tr>\n",
       "      <td>2</td>\n",
       "      <td>spam</td>\n",
       "      <td>Free entry in 2 a wkly comp to win FA Cup fina...</td>\n",
       "    </tr>\n",
       "    <tr>\n",
       "      <td>3</td>\n",
       "      <td>ham</td>\n",
       "      <td>U dun say so early hor... U c already then say...</td>\n",
       "    </tr>\n",
       "    <tr>\n",
       "      <td>4</td>\n",
       "      <td>ham</td>\n",
       "      <td>Nah I don't think he goes to usf, he lives aro...</td>\n",
       "    </tr>\n",
       "  </tbody>\n",
       "</table>\n",
       "</div>"
      ],
      "text/plain": [
       "  label                                               text\n",
       "0   ham  Go until jurong point, crazy.. Available only ...\n",
       "1   ham                      Ok lar... Joking wif u oni...\n",
       "2  spam  Free entry in 2 a wkly comp to win FA Cup fina...\n",
       "3   ham  U dun say so early hor... U c already then say...\n",
       "4   ham  Nah I don't think he goes to usf, he lives aro..."
      ]
     },
     "execution_count": 52,
     "metadata": {},
     "output_type": "execute_result"
    }
   ],
   "source": [
    "# Load the data for tokenizer\n",
    "data = pd.read_csv('spam.csv', usecols = [0,1], encoding='latin-1')\n",
    "data.columns = ['label', 'text']\n",
    "print(\"The data has\", data.shape[0], \"row(s) and \", data.shape[1], \"column(s)\")\n",
    "data.head()"
   ]
  },
  {
   "cell_type": "code",
   "execution_count": 53,
   "metadata": {},
   "outputs": [
    {
     "data": {
      "text/html": [
       "<div>\n",
       "<style scoped>\n",
       "    .dataframe tbody tr th:only-of-type {\n",
       "        vertical-align: middle;\n",
       "    }\n",
       "\n",
       "    .dataframe tbody tr th {\n",
       "        vertical-align: top;\n",
       "    }\n",
       "\n",
       "    .dataframe thead tr th {\n",
       "        text-align: left;\n",
       "    }\n",
       "\n",
       "    .dataframe thead tr:last-of-type th {\n",
       "        text-align: right;\n",
       "    }\n",
       "</style>\n",
       "<table border=\"1\" class=\"dataframe\">\n",
       "  <thead>\n",
       "    <tr>\n",
       "      <th></th>\n",
       "      <th colspan=\"4\" halign=\"left\">text</th>\n",
       "    </tr>\n",
       "    <tr>\n",
       "      <th></th>\n",
       "      <th>count</th>\n",
       "      <th>unique</th>\n",
       "      <th>top</th>\n",
       "      <th>freq</th>\n",
       "    </tr>\n",
       "    <tr>\n",
       "      <th>label</th>\n",
       "      <th></th>\n",
       "      <th></th>\n",
       "      <th></th>\n",
       "      <th></th>\n",
       "    </tr>\n",
       "  </thead>\n",
       "  <tbody>\n",
       "    <tr>\n",
       "      <td>ham</td>\n",
       "      <td>4825</td>\n",
       "      <td>4516</td>\n",
       "      <td>Sorry, I'll call later</td>\n",
       "      <td>30</td>\n",
       "    </tr>\n",
       "    <tr>\n",
       "      <td>spam</td>\n",
       "      <td>747</td>\n",
       "      <td>653</td>\n",
       "      <td>Please call our customer service representativ...</td>\n",
       "      <td>4</td>\n",
       "    </tr>\n",
       "  </tbody>\n",
       "</table>\n",
       "</div>"
      ],
      "text/plain": [
       "       text                                                               \n",
       "      count unique                                                top freq\n",
       "label                                                                     \n",
       "ham    4825   4516                             Sorry, I'll call later   30\n",
       "spam    747    653  Please call our customer service representativ...    4"
      ]
     },
     "execution_count": 53,
     "metadata": {},
     "output_type": "execute_result"
    }
   ],
   "source": [
    "# Get a word count and unique word count of the text\n",
    "data.groupby('label').describe()"
   ]
  },
  {
   "cell_type": "code",
   "execution_count": 54,
   "metadata": {},
   "outputs": [
    {
     "data": {
      "image/png": "[encoded data removed]",
      "text/plain": [
       "<Figure size 432x288 with 1 Axes>"
      ]
     },
     "metadata": {},
     "output_type": "display_data"
    }
   ],
   "source": [
    "x = data.groupby('label').describe()\n",
    "# Get the number of ham and spam\n",
    "num_ham = x['text']['count'][0]\n",
    "num_spam = x['text']['count'][1]\n",
    "# plot a pie chart to show how many spams and hams\n",
    "plt.pie([num_ham, num_spam],labels=[\"Ham\", \"Spam\"],explode=(0,0.2),autopct='%1.2f%%',startangle=45)\n",
    "plt.show()"
   ]
  },
  {
   "cell_type": "code",
   "execution_count": 55,
   "metadata": {},
   "outputs": [
    {
     "data": {
      "text/html": [
       "<div>\n",
       "<style scoped>\n",
       "    .dataframe tbody tr th:only-of-type {\n",
       "        vertical-align: middle;\n",
       "    }\n",
       "\n",
       "    .dataframe tbody tr th {\n",
       "        vertical-align: top;\n",
       "    }\n",
       "\n",
       "    .dataframe thead th {\n",
       "        text-align: right;\n",
       "    }\n",
       "</style>\n",
       "<table border=\"1\" class=\"dataframe\">\n",
       "  <thead>\n",
       "    <tr style=\"text-align: right;\">\n",
       "      <th></th>\n",
       "      <th>label</th>\n",
       "      <th>text</th>\n",
       "    </tr>\n",
       "  </thead>\n",
       "  <tbody>\n",
       "    <tr>\n",
       "      <td>0</td>\n",
       "      <td>ham</td>\n",
       "      <td>Go until jurong point, crazy.. Available only ...</td>\n",
       "    </tr>\n",
       "    <tr>\n",
       "      <td>1</td>\n",
       "      <td>ham</td>\n",
       "      <td>Ok lar... Joking wif u oni...</td>\n",
       "    </tr>\n",
       "    <tr>\n",
       "      <td>2</td>\n",
       "      <td>spam</td>\n",
       "      <td>Free entry in 2 a wkly comp to win FA Cup fina...</td>\n",
       "    </tr>\n",
       "    <tr>\n",
       "      <td>3</td>\n",
       "      <td>ham</td>\n",
       "      <td>U dun say so early hor... U c already then say...</td>\n",
       "    </tr>\n",
       "    <tr>\n",
       "      <td>4</td>\n",
       "      <td>ham</td>\n",
       "      <td>Nah I don't think he goes to usf, he lives aro...</td>\n",
       "    </tr>\n",
       "    <tr>\n",
       "      <td>...</td>\n",
       "      <td>...</td>\n",
       "      <td>...</td>\n",
       "    </tr>\n",
       "    <tr>\n",
       "      <td>5567</td>\n",
       "      <td>spam</td>\n",
       "      <td>This is the 2nd time we have tried 2 contact u...</td>\n",
       "    </tr>\n",
       "    <tr>\n",
       "      <td>5568</td>\n",
       "      <td>ham</td>\n",
       "      <td>Will Ì_ b going to esplanade fr home?</td>\n",
       "    </tr>\n",
       "    <tr>\n",
       "      <td>5569</td>\n",
       "      <td>ham</td>\n",
       "      <td>Pity, * was in mood for that. So...any other s...</td>\n",
       "    </tr>\n",
       "    <tr>\n",
       "      <td>5570</td>\n",
       "      <td>ham</td>\n",
       "      <td>The guy did some bitching but I acted like i'd...</td>\n",
       "    </tr>\n",
       "    <tr>\n",
       "      <td>5571</td>\n",
       "      <td>ham</td>\n",
       "      <td>Rofl. Its true to its name</td>\n",
       "    </tr>\n",
       "  </tbody>\n",
       "</table>\n",
       "<p>5572 rows × 2 columns</p>\n",
       "</div>"
      ],
      "text/plain": [
       "     label                                               text\n",
       "0      ham  Go until jurong point, crazy.. Available only ...\n",
       "1      ham                      Ok lar... Joking wif u oni...\n",
       "2     spam  Free entry in 2 a wkly comp to win FA Cup fina...\n",
       "3      ham  U dun say so early hor... U c already then say...\n",
       "4      ham  Nah I don't think he goes to usf, he lives aro...\n",
       "...    ...                                                ...\n",
       "5567  spam  This is the 2nd time we have tried 2 contact u...\n",
       "5568   ham              Will Ì_ b going to esplanade fr home?\n",
       "5569   ham  Pity, * was in mood for that. So...any other s...\n",
       "5570   ham  The guy did some bitching but I acted like i'd...\n",
       "5571   ham                         Rofl. Its true to its name\n",
       "\n",
       "[5572 rows x 2 columns]"
      ]
     },
     "execution_count": 55,
     "metadata": {},
     "output_type": "execute_result"
    }
   ],
   "source": [
    "data"
   ]
  },
  {
   "cell_type": "code",
   "execution_count": 56,
   "metadata": {},
   "outputs": [
    {
     "data": {
      "text/html": [
       "<div>\n",
       "<style scoped>\n",
       "    .dataframe tbody tr th:only-of-type {\n",
       "        vertical-align: middle;\n",
       "    }\n",
       "\n",
       "    .dataframe tbody tr th {\n",
       "        vertical-align: top;\n",
       "    }\n",
       "\n",
       "    .dataframe thead th {\n",
       "        text-align: right;\n",
       "    }\n",
       "</style>\n",
       "<table border=\"1\" class=\"dataframe\">\n",
       "  <thead>\n",
       "    <tr style=\"text-align: right;\">\n",
       "      <th></th>\n",
       "      <th>label</th>\n",
       "      <th>text</th>\n",
       "    </tr>\n",
       "  </thead>\n",
       "  <tbody>\n",
       "    <tr>\n",
       "      <td>0</td>\n",
       "      <td>0</td>\n",
       "      <td>Go until jurong point, crazy.. Available only ...</td>\n",
       "    </tr>\n",
       "    <tr>\n",
       "      <td>1</td>\n",
       "      <td>0</td>\n",
       "      <td>Ok lar... Joking wif u oni...</td>\n",
       "    </tr>\n",
       "    <tr>\n",
       "      <td>2</td>\n",
       "      <td>1</td>\n",
       "      <td>Free entry in 2 a wkly comp to win FA Cup fina...</td>\n",
       "    </tr>\n",
       "    <tr>\n",
       "      <td>3</td>\n",
       "      <td>0</td>\n",
       "      <td>U dun say so early hor... U c already then say...</td>\n",
       "    </tr>\n",
       "    <tr>\n",
       "      <td>4</td>\n",
       "      <td>0</td>\n",
       "      <td>Nah I don't think he goes to usf, he lives aro...</td>\n",
       "    </tr>\n",
       "    <tr>\n",
       "      <td>...</td>\n",
       "      <td>...</td>\n",
       "      <td>...</td>\n",
       "    </tr>\n",
       "    <tr>\n",
       "      <td>5567</td>\n",
       "      <td>1</td>\n",
       "      <td>This is the 2nd time we have tried 2 contact u...</td>\n",
       "    </tr>\n",
       "    <tr>\n",
       "      <td>5568</td>\n",
       "      <td>0</td>\n",
       "      <td>Will Ì_ b going to esplanade fr home?</td>\n",
       "    </tr>\n",
       "    <tr>\n",
       "      <td>5569</td>\n",
       "      <td>0</td>\n",
       "      <td>Pity, * was in mood for that. So...any other s...</td>\n",
       "    </tr>\n",
       "    <tr>\n",
       "      <td>5570</td>\n",
       "      <td>0</td>\n",
       "      <td>The guy did some bitching but I acted like i'd...</td>\n",
       "    </tr>\n",
       "    <tr>\n",
       "      <td>5571</td>\n",
       "      <td>0</td>\n",
       "      <td>Rofl. Its true to its name</td>\n",
       "    </tr>\n",
       "  </tbody>\n",
       "</table>\n",
       "<p>5572 rows × 2 columns</p>\n",
       "</div>"
      ],
      "text/plain": [
       "      label                                               text\n",
       "0         0  Go until jurong point, crazy.. Available only ...\n",
       "1         0                      Ok lar... Joking wif u oni...\n",
       "2         1  Free entry in 2 a wkly comp to win FA Cup fina...\n",
       "3         0  U dun say so early hor... U c already then say...\n",
       "4         0  Nah I don't think he goes to usf, he lives aro...\n",
       "...     ...                                                ...\n",
       "5567      1  This is the 2nd time we have tried 2 contact u...\n",
       "5568      0              Will Ì_ b going to esplanade fr home?\n",
       "5569      0  Pity, * was in mood for that. So...any other s...\n",
       "5570      0  The guy did some bitching but I acted like i'd...\n",
       "5571      0                         Rofl. Its true to its name\n",
       "\n",
       "[5572 rows x 2 columns]"
      ]
     },
     "execution_count": 56,
     "metadata": {},
     "output_type": "execute_result"
    }
   ],
   "source": [
    "# Encode ham and spam into binary number\n",
    "le = LabelEncoder()\n",
    "data.label = le.fit_transform(data.label)\n",
    "data"
   ]
  },
  {
   "cell_type": "markdown",
   "metadata": {},
   "source": [
    "We are going to try lemmatization and stopword removal. However, conventional processing techniques are not going to work well with a SMS corpus. The texts have a lot of shortened words and abbreviations. Ideally, we have to implement a customized normalization of text."
   ]
  },
  {
   "cell_type": "code",
   "execution_count": 57,
   "metadata": {},
   "outputs": [],
   "source": [
    "# Set up the english stopword library\n",
    "total_stopwords = set([word.replace(\"'\",'') for word in stopwords.words('english')]) \n",
    "# Call the lemmatizer class\n",
    "lemma = WordNetLemmatizer()\n",
    "def preprocess_text(text):\n",
    "    text = text.lower() # Convert to lowercase\n",
    "    text = text.replace(\"'\",'') # Remove apostrophe\n",
    "    text = re.sub('[^a-zA-Z]',' ',text) # using regular expression to remove \n",
    "    words = text.split() # Split the text into words by looking at the space between the texts\n",
    "    # Stem the words and also remove stopwords\n",
    "    words = [lemma.lemmatize(word) for word in words if (word not in total_stopwords) and (len(word)>1)] # Remove stop words\n",
    "    # Put the clean words back together as a text message\n",
    "    text = \" \".join(words)\n",
    "    return text"
   ]
  },
  {
   "cell_type": "code",
   "execution_count": 58,
   "metadata": {},
   "outputs": [
    {
     "name": "stdout",
     "output_type": "stream",
     "text": [
      "      label                                               text\n",
      "0         0  go jurong point crazy available bugis great wo...\n",
      "1         0                              ok lar joking wif oni\n",
      "2         1  free entry wkly comp win fa cup final tkts st ...\n",
      "3         0                      dun say early hor already say\n",
      "4         0           nah dont think go usf life around though\n",
      "...     ...                                                ...\n",
      "5567      1  nd time tried contact pound prize claim easy c...\n",
      "5568      0                            going esplanade fr home\n",
      "5569      0                               pity mood suggestion\n",
      "5570      0  guy bitching acted like id interested buying s...\n",
      "5571      0                                     rofl true name\n",
      "\n",
      "[5572 rows x 2 columns]\n"
     ]
    }
   ],
   "source": [
    "# Clean the text\n",
    "data.text = data.text.apply(preprocess_text)\n",
    "print(data)"
   ]
  },
  {
   "cell_type": "code",
   "execution_count": 60,
   "metadata": {},
   "outputs": [],
   "source": [
    "# Split into train and test data\n",
    "x_train, x_test, y_train, y_test = train_test_split(data.text, data.label, test_size=0.15, stratify=data.label, random_state = random.seed(42))"
   ]
  },
  {
   "cell_type": "markdown",
   "metadata": {},
   "source": [
    "## 1. GRU with Vanila Embedding From Scratch"
   ]
  },
  {
   "cell_type": "markdown",
   "metadata": {},
   "source": [
    "## a. GRU with data based on count-vectorized data (takes a long time to run)"
   ]
  },
  {
   "cell_type": "code",
   "execution_count": 66,
   "metadata": {},
   "outputs": [],
   "source": [
    "def GRU_countVector(num_node):\n",
    "    random.seed(42)\n",
    "    inp = Input(shape=(9376,))\n",
    "    # Embedding layer\n",
    "    x = Embedding(9376, 10)(inp)\n",
    "    # Bidirectional with Graded Recurrent Unit\n",
    "    x = Bidirectional(GRU(64, return_sequences=True))(x)\n",
    "    # Global max layer\n",
    "    x = GlobalMaxPool1D()(x)\n",
    "    # 3 Hidden layers with 16 nodes\n",
    "    x = Dense(num_node, activation=\"relu\")(x)\n",
    "    x = Dense(num_node, activation=\"relu\")(x)\n",
    "    x = Dense(num_node, activation=\"relu\")(x)\n",
    "    # Dropout layer\n",
    "    x = Dropout(0.1)(x)\n",
    "    x = Dense(1, activation=\"sigmoid\")(x)\n",
    "    model = Model(inputs=inp, outputs=x)\n",
    "    model.compile(loss='binary_crossentropy', optimizer='adam', metrics=['accuracy'])\n",
    "    history = model.fit(X_tr, y_tr, batch_size=128, epochs=10, validation_data=(X_te, y_te))\n",
    "    y_pred =  model.predict(X_te)\n",
    "    return history, y_pred, model"
   ]
  },
  {
   "cell_type": "code",
   "execution_count": null,
   "metadata": {},
   "outputs": [
    {
     "name": "stderr",
     "output_type": "stream",
     "text": [
      "/Library/Frameworks/Python.framework/Versions/3.6/lib/python3.6/site-packages/tensorflow_core/python/framework/indexed_slices.py:424: UserWarning: Converting sparse IndexedSlices to a dense Tensor of unknown shape. This may consume a large amount of memory.\n",
      "  \"Converting sparse IndexedSlices to a dense Tensor of unknown shape. \"\n"
     ]
    },
    {
     "name": "stdout",
     "output_type": "stream",
     "text": [
      "Train on 4736 samples, validate on 836 samples\n",
      "Epoch 1/10\n",
      "4736/4736 [==============================] - 3936s 831ms/step - loss: 0.5161 - accuracy: 0.8651 - val_loss: 0.3996 - val_accuracy: 0.8708\n",
      "Epoch 2/10\n",
      "4736/4736 [==============================] - 4270s 902ms/step - loss: 0.4035 - accuracy: 0.8651 - val_loss: 0.3859 - val_accuracy: 0.8708\n",
      "Epoch 3/10\n",
      "4736/4736 [==============================] - 4140s 874ms/step - loss: 0.3969 - accuracy: 0.8651 - val_loss: 0.3872 - val_accuracy: 0.8708\n",
      "Epoch 4/10\n",
      "4736/4736 [==============================] - 5359s 1s/step - loss: 0.3965 - accuracy: 0.8651 - val_loss: 0.3811 - val_accuracy: 0.8708\n",
      "Epoch 5/10\n",
      "4736/4736 [==============================] - 6867s 1s/step - loss: 0.3875 - accuracy: 0.8651 - val_loss: 0.3743 - val_accuracy: 0.8708\n",
      "Epoch 6/10\n",
      "4736/4736 [==============================] - 7251s 2s/step - loss: 0.3811 - accuracy: 0.8651 - val_loss: 0.3736 - val_accuracy: 0.8708\n",
      "Epoch 7/10\n",
      "4736/4736 [==============================] - 7799s 2s/step - loss: 0.3824 - accuracy: 0.8651 - val_loss: 0.3735 - val_accuracy: 0.8708\n",
      "Epoch 8/10\n",
      "4736/4736 [==============================] - 7463s 2s/step - loss: 0.3824 - accuracy: 0.8651 - val_loss: 0.3728 - val_accuracy: 0.8708\n",
      "Epoch 9/10\n",
      "3456/4736 [====================>.........] - ETA: 39:51 - loss: 0.3749 - accuracy: 0.8681"
     ]
    },
    {
     "name": "stderr",
     "output_type": "stream",
     "text": [
      "ERROR:root:Internal Python error in the inspect module.\n",
      "Below is the traceback from this internal error.\n",
      "\n"
     ]
    },
    {
     "name": "stdout",
     "output_type": "stream",
     "text": [
      "Traceback (most recent call last):\n",
      "  File \"/Library/Frameworks/Python.framework/Versions/3.6/lib/python3.6/site-packages/IPython/core/interactiveshell.py\", line 2963, in run_code\n",
      "    exec(code_obj, self.user_global_ns, self.user_ns)\n",
      "  File \"<ipython-input-67-b52aacff8f4a>\", line 1, in <module>\n",
      "    cv_history, cv_y_pred, cv_model = GRU_countVector(36)\n",
      "  File \"<ipython-input-66-778f6621ff25>\", line 18, in GRU_countVector\n",
      "    history = model.fit(X_tr, y_tr, batch_size=128, epochs=10, validation_data=(X_te, y_te))\n",
      "  File \"/Library/Frameworks/Python.framework/Versions/3.6/lib/python3.6/site-packages/keras/engine/training.py\", line 1239, in fit\n",
      "    validation_freq=validation_freq)\n",
      "  File \"/Library/Frameworks/Python.framework/Versions/3.6/lib/python3.6/site-packages/keras/engine/training_arrays.py\", line 196, in fit_loop\n",
      "    outs = fit_function(ins_batch)\n",
      "  File \"/Library/Frameworks/Python.framework/Versions/3.6/lib/python3.6/site-packages/tensorflow_core/python/keras/backend.py\", line 3740, in __call__\n",
      "    outputs = self._graph_fn(*converted_inputs)\n",
      "  File \"/Library/Frameworks/Python.framework/Versions/3.6/lib/python3.6/site-packages/tensorflow_core/python/eager/function.py\", line 1081, in __call__\n",
      "    return self._call_impl(args, kwargs)\n",
      "  File \"/Library/Frameworks/Python.framework/Versions/3.6/lib/python3.6/site-packages/tensorflow_core/python/eager/function.py\", line 1121, in _call_impl\n",
      "    return self._call_flat(args, self.captured_inputs, cancellation_manager)\n",
      "  File \"/Library/Frameworks/Python.framework/Versions/3.6/lib/python3.6/site-packages/tensorflow_core/python/eager/function.py\", line 1224, in _call_flat\n",
      "    ctx, args, cancellation_manager=cancellation_manager)\n",
      "  File \"/Library/Frameworks/Python.framework/Versions/3.6/lib/python3.6/site-packages/tensorflow_core/python/eager/function.py\", line 511, in call\n",
      "    ctx=ctx)\n",
      "  File \"/Library/Frameworks/Python.framework/Versions/3.6/lib/python3.6/site-packages/tensorflow_core/python/eager/execute.py\", line 61, in quick_execute\n",
      "    num_outputs)\n",
      "KeyboardInterrupt\n",
      "\n",
      "During handling of the above exception, another exception occurred:\n",
      "\n",
      "Traceback (most recent call last):\n",
      "  File \"/Library/Frameworks/Python.framework/Versions/3.6/lib/python3.6/site-packages/IPython/core/interactiveshell.py\", line 1863, in showtraceback\n",
      "    stb = value._render_traceback_()\n",
      "AttributeError: 'KeyboardInterrupt' object has no attribute '_render_traceback_'\n",
      "\n",
      "During handling of the above exception, another exception occurred:\n",
      "\n",
      "Traceback (most recent call last):\n",
      "  File \"/Library/Frameworks/Python.framework/Versions/3.6/lib/python3.6/site-packages/IPython/core/ultratb.py\", line 1095, in get_records\n",
      "    return _fixed_getinnerframes(etb, number_of_lines_of_context, tb_offset)\n",
      "  File \"/Library/Frameworks/Python.framework/Versions/3.6/lib/python3.6/site-packages/IPython/core/ultratb.py\", line 311, in wrapped\n",
      "    return f(*args, **kwargs)\n",
      "  File \"/Library/Frameworks/Python.framework/Versions/3.6/lib/python3.6/site-packages/IPython/core/ultratb.py\", line 345, in _fixed_getinnerframes\n",
      "    records = fix_frame_records_filenames(inspect.getinnerframes(etb, context))\n",
      "  File \"/Library/Frameworks/Python.framework/Versions/3.6/lib/python3.6/inspect.py\", line 1483, in getinnerframes\n",
      "    frameinfo = (tb.tb_frame,) + getframeinfo(tb, context)\n",
      "  File \"/Library/Frameworks/Python.framework/Versions/3.6/lib/python3.6/inspect.py\", line 1441, in getframeinfo\n",
      "    filename = getsourcefile(frame) or getfile(frame)\n",
      "  File \"/Library/Frameworks/Python.framework/Versions/3.6/lib/python3.6/inspect.py\", line 696, in getsourcefile\n",
      "    if getattr(getmodule(object, filename), '__loader__', None) is not None:\n",
      "  File \"/Library/Frameworks/Python.framework/Versions/3.6/lib/python3.6/inspect.py\", line 733, in getmodule\n",
      "    if ismodule(module) and hasattr(module, '__file__'):\n",
      "KeyboardInterrupt\n"
     ]
    },
    {
     "ename": "KeyboardInterrupt",
     "evalue": "",
     "output_type": "error",
     "traceback": [
      "\u001b[0;31m---------------------------------------------------------------------------\u001b[0m"
     ]
    },
    {
     "name": "stderr",
     "output_type": "stream",
     "text": [
      "ERROR:tornado.general:Uncaught exception in ZMQStream callback\n",
      "Traceback (most recent call last):\n",
      "  File \"/Library/Frameworks/Python.framework/Versions/3.6/lib/python3.6/site-packages/zmq/eventloop/zmqstream.py\", line 432, in _run_callback\n",
      "    callback(*args, **kwargs)\n",
      "  File \"/Library/Frameworks/Python.framework/Versions/3.6/lib/python3.6/site-packages/tornado/stack_context.py\", line 276, in null_wrapper\n",
      "    return fn(*args, **kwargs)\n",
      "  File \"/Library/Frameworks/Python.framework/Versions/3.6/lib/python3.6/site-packages/ipykernel/kernelbase.py\", line 283, in dispatcher\n",
      "    return self.dispatch_shell(stream, msg)\n",
      "  File \"/Library/Frameworks/Python.framework/Versions/3.6/lib/python3.6/site-packages/ipykernel/kernelbase.py\", line 233, in dispatch_shell\n",
      "    handler(stream, idents, msg)\n",
      "  File \"/Library/Frameworks/Python.framework/Versions/3.6/lib/python3.6/site-packages/ipykernel/kernelbase.py\", line 399, in execute_request\n",
      "    user_expressions, allow_stdin)\n",
      "  File \"/Library/Frameworks/Python.framework/Versions/3.6/lib/python3.6/site-packages/ipykernel/ipkernel.py\", line 256, in do_execute\n",
      "    shell.payload_manager.clear_payload()\n",
      "  File \"/Library/Frameworks/Python.framework/Versions/3.6/lib/python3.6/site-packages/IPython/core/payload.py\", line 55, in clear_payload\n",
      "    self._payload = []\n",
      "KeyboardInterrupt\n"
     ]
    }
   ],
   "source": [
    "cv_history, cv_y_pred, cv_model = GRU_countVector(36)"
   ]
  },
  {
   "cell_type": "code",
   "execution_count": null,
   "metadata": {},
   "outputs": [],
   "source": [
    "cv_model.save('rnn_model/gru_cv_embedding_scratch.h5')"
   ]
  },
  {
   "cell_type": "markdown",
   "metadata": {},
   "source": [
    "## b. GRU with data based on vertorized data using Tokenizer()\n",
    "Note: Some results appear to be slightly different than the result on the report. It is because I forgot to set seed for the first time. "
   ]
  },
  {
   "cell_type": "code",
   "execution_count": 61,
   "metadata": {},
   "outputs": [],
   "source": [
    "## some config values \n",
    "embed_size = 100 # how dimension of the word vector we would like to set\n",
    "# Maximum number of the words within each text in the entire document \n",
    "max_len = x_train.apply(lambda str: len(str.split())).max() # max number of words"
   ]
  },
  {
   "cell_type": "code",
   "execution_count": 62,
   "metadata": {},
   "outputs": [],
   "source": [
    "# Initilize the tokenzier\n",
    "tok = Tokenizer()\n",
    "# Fit the tokenizer to the training\n",
    "tok.fit_on_texts(x_train)\n",
    "# Get how many unique words to use (i.e num rows in embedding vector)\n",
    "vocab_size = len(tok.word_index) + 1"
   ]
  },
  {
   "cell_type": "code",
   "execution_count": 63,
   "metadata": {},
   "outputs": [],
   "source": [
    "# Convect each text message to a vector of numbers based on the order of the word\n",
    "x_train_features = np.array(tok.texts_to_sequences(x_train))\n",
    "x_test_features = np.array(tok.texts_to_sequences(x_test))\n",
    "# ensure that all sequences in a list have the same length by padding 0 in the front for shorter sentences\n",
    "x_train_features = pad_sequences(x_train_features,maxlen=max_len)\n",
    "x_test_features = pad_sequences(x_test_features,maxlen=max_len)"
   ]
  },
  {
   "cell_type": "code",
   "execution_count": 65,
   "metadata": {},
   "outputs": [],
   "source": [
    "def tokenized_GRU_L1(num_node):  \n",
    "    random.seed(42)\n",
    "    inp = Input(shape=(max_len,))\n",
    "    # Embedding layer: vocab_size is the count of unique token + 1 for the 0 we added, embed size is the size of the vector space for which the words are embedded. \n",
    "    x = Embedding(vocab_size, embed_size)(inp)\n",
    "    # Bidirectional with Graded Recurrent Unit with 64 units\n",
    "    x = Bidirectional(GRU(64, return_sequences=True))(x)\n",
    "    # Add global max pooling layer\n",
    "    x = GlobalMaxPool1D()(x)\n",
    "    # Add a hidden layer\n",
    "    x = Dense(num_node, activation=\"relu\")(x)\n",
    "    # Add a dropout layer\n",
    "    x = Dropout(0.1)(x)\n",
    "    # Output a binary class using sigmoid function\n",
    "    x = Dense(1, activation=\"sigmoid\")(x)\n",
    "    # Pass in the argument to set up the model\n",
    "    model = Model(inputs=inp, outputs=x)\n",
    "    # Set optimizer to adam and loss function to binary crossentropy to deal with binary classification problem\n",
    "    model.compile(loss='binary_crossentropy', optimizer='adam', metrics=['accuracy'])\n",
    "    history = model.fit(x_train_features, y_train, batch_size=512, epochs=20, validation_data=(x_test_features, y_test), verbose=0)\n",
    "    y_pred = model.predict(x_test_features)\n",
    "    return history, y_pred, model"
   ]
  },
  {
   "cell_type": "code",
   "execution_count": 66,
   "metadata": {},
   "outputs": [],
   "source": [
    "def tokenized_GRU_L3(num_node):\n",
    "    random.seed(42)\n",
    "    inp = Input(shape=(max_len,))\n",
    "    # Embedding layer: vocab_size is the count of unique token + 1 for the 0 we added, embed size is the size of the vector space for which the words are embedded. \n",
    "    x = Embedding(vocab_size, embed_size)(inp)\n",
    "    # Bidirectional with Graded Recurrent Unit with 64 units\n",
    "    x = Bidirectional(GRU(64, return_sequences=True))(x)\n",
    "    # Add global max pooling layer\n",
    "    x = GlobalMaxPool1D()(x)\n",
    "    # Add 3 hidden layers\n",
    "    x = Dense(num_node, activation=\"relu\")(x)\n",
    "    x = Dense(num_node, activation=\"relu\")(x)\n",
    "    x = Dense(num_node, activation=\"relu\")(x)\n",
    "    # Add a dropout layer\n",
    "    x = Dropout(0.1)(x)\n",
    "    # Output a binary class using sigmoid function\n",
    "    x = Dense(1, activation=\"sigmoid\")(x)\n",
    "    # Pass in the argument to set up the model\n",
    "    model = Model(inputs=inp, outputs=x)\n",
    "    # Set optimizer to adam and loss function to binary crossentropy to deal with binary classification problem\n",
    "    model.compile(loss='binary_crossentropy', optimizer='adam', metrics=['accuracy'])\n",
    "    history = model.fit(x_train_features, y_train, batch_size=512, epochs=20, validation_data=(x_test_features, y_test), verbose=0)\n",
    "    y_pred = model.predict(x_test_features)\n",
    "    return history, y_pred, model"
   ]
  },
  {
   "cell_type": "code",
   "execution_count": 67,
   "metadata": {},
   "outputs": [],
   "source": [
    "def tokenized_GRU_L6(num_node):\n",
    "    random.seed(42)\n",
    "    inp = Input(shape=(max_len,))\n",
    "    # Embedding layer: vocab_size is the count of unique token + 1 for the 0 we added, embed size is the size of the vector space for which the words are embedded. \n",
    "    x = Embedding(vocab_size, embed_size)(inp)\n",
    "    # Bidirectional with Graded Recurrent Unit with 64 units\n",
    "    x = Bidirectional(GRU(64, return_sequences=True))(x)\n",
    "    # Add global max pooling layer\n",
    "    x = GlobalMaxPool1D()(x)\n",
    "    # Add 6 hidden layers \n",
    "    x = Dense(num_node, activation=\"relu\")(x)\n",
    "    x = Dense(num_node, activation=\"relu\")(x)\n",
    "    x = Dense(num_node, activation=\"relu\")(x)\n",
    "    x = Dense(num_node, activation=\"relu\")(x)\n",
    "    x = Dense(num_node, activation=\"relu\")(x)\n",
    "    x = Dense(num_node, activation=\"relu\")(x)\n",
    "    # Add a dropout layer\n",
    "    x = Dropout(0.1)(x)\n",
    "    # Output a binary class using sigmoid function\n",
    "    x = Dense(1, activation=\"sigmoid\")(x)\n",
    "    model = Model(inputs=inp, outputs=x)\n",
    "    model.compile(loss='binary_crossentropy', optimizer='adam', metrics=['accuracy'])\n",
    "    history = model.fit(x_train_features, y_train, batch_size=512, epochs=20, validation_data=(x_test_features, y_test), verbose=0)\n",
    "    y_pred = model.predict(x_test_features)\n",
    "    return history, y_pred, model"
   ]
  },
  {
   "cell_type": "code",
   "execution_count": 68,
   "metadata": {},
   "outputs": [],
   "source": [
    "def evaluate(y_test, y_pred):\n",
    "    random.seed(42)\n",
    "    pr, rc, thresholds = precision_recall_curve(y_test, y_pred)\n",
    "    # We want to get an index where precision is as close to recall rate \n",
    "    idx = np.max(np.where(pr <= rc))\n",
    "    # Get the threshold where the precision and recall are as close to each other\n",
    "    cutoff = thresholds[idx]\n",
    "    # Print the predicted classes based on the cutoff value\n",
    "    # Get the F1 scores\n",
    "    print(classification_report(y_test, y_pred > cutoff))\n",
    "    # Disply the confusion matrix\n",
    "    confusion_test = confusion_matrix(y_test, y_pred > cutoff)\n",
    "    display(pd.DataFrame(data = confusion_test, columns = ['Predicted ham', 'Predicted Spam'],index = ['Actual ham', 'Actual Spam']))\n"
   ]
  },
  {
   "cell_type": "code",
   "execution_count": 69,
   "metadata": {},
   "outputs": [
    {
     "name": "stderr",
     "output_type": "stream",
     "text": [
      "/Library/Frameworks/Python.framework/Versions/3.6/lib/python3.6/site-packages/tensorflow_core/python/framework/indexed_slices.py:424: UserWarning: Converting sparse IndexedSlices to a dense Tensor of unknown shape. This may consume a large amount of memory.\n",
      "  \"Converting sparse IndexedSlices to a dense Tensor of unknown shape. \"\n",
      "/Library/Frameworks/Python.framework/Versions/3.6/lib/python3.6/site-packages/tensorflow_core/python/framework/indexed_slices.py:424: UserWarning: Converting sparse IndexedSlices to a dense Tensor of unknown shape. This may consume a large amount of memory.\n",
      "  \"Converting sparse IndexedSlices to a dense Tensor of unknown shape. \"\n",
      "/Library/Frameworks/Python.framework/Versions/3.6/lib/python3.6/site-packages/tensorflow_core/python/framework/indexed_slices.py:424: UserWarning: Converting sparse IndexedSlices to a dense Tensor of unknown shape. This may consume a large amount of memory.\n",
      "  \"Converting sparse IndexedSlices to a dense Tensor of unknown shape. \"\n",
      "/Library/Frameworks/Python.framework/Versions/3.6/lib/python3.6/site-packages/tensorflow_core/python/framework/indexed_slices.py:424: UserWarning: Converting sparse IndexedSlices to a dense Tensor of unknown shape. This may consume a large amount of memory.\n",
      "  \"Converting sparse IndexedSlices to a dense Tensor of unknown shape. \"\n"
     ]
    }
   ],
   "source": [
    "# Word embedding from scratch with 1 layer\n",
    "# Train the models and get the history, prediction, and the models\n",
    "history_tok_scratch_one_6, y_pred_tok_scratch_one_6, model_tok_scratch_one_6 = tokenized_GRU_L1(6)\n",
    "history_tok_scratch_one_12, y_pred_tok_scratch_one_12, model_tok_scratch_one_12 = tokenized_GRU_L1(12)\n",
    "history_tok_scratch_one_16, y_pred_tok_scratch_one_16, model_tok_scratch_one_16 = tokenized_GRU_L1(16)\n",
    "history_tok_scratch_one_36, y_pred_tok_scratch_one_36, model_tok_scratch_one_36 = tokenized_GRU_L1(36)\n",
    "# Get the precision, recall, and the \n",
    "pr_tok_scratch_one_6, rc_tok_scratch_one_6, thresholds_tok_scratch_one_6 = precision_recall_curve(y_test, y_pred_tok_scratch_one_6)\n",
    "pr_tok_scratch_one_12, rc_tok_scratch_one_12, thresholds_tok_scratch_one_12 = precision_recall_curve(y_test, y_pred_tok_scratch_one_12)\n",
    "pr_tok_scratch_one_16, rc_tok_scratch_one_16, thresholds_tok_scratch_one_16 = precision_recall_curve(y_test, y_pred_tok_scratch_one_16)\n",
    "pr_tok_scratch_one_36, rc_tok_scratch_one_36, thresholds_tok_scratch_one_36 = precision_recall_curve(y_test, y_pred_tok_scratch_one_16)\n"
   ]
  },
  {
   "cell_type": "code",
   "execution_count": 70,
   "metadata": {},
   "outputs": [
    {
     "name": "stdout",
     "output_type": "stream",
     "text": [
      "              precision    recall  f1-score   support\n",
      "\n",
      "           0       0.99      0.99      0.99       724\n",
      "           1       0.95      0.94      0.94       112\n",
      "\n",
      "    accuracy                           0.98       836\n",
      "   macro avg       0.97      0.96      0.97       836\n",
      "weighted avg       0.98      0.98      0.98       836\n",
      "\n"
     ]
    },
    {
     "data": {
      "text/html": [
       "<div>\n",
       "<style scoped>\n",
       "    .dataframe tbody tr th:only-of-type {\n",
       "        vertical-align: middle;\n",
       "    }\n",
       "\n",
       "    .dataframe tbody tr th {\n",
       "        vertical-align: top;\n",
       "    }\n",
       "\n",
       "    .dataframe thead th {\n",
       "        text-align: right;\n",
       "    }\n",
       "</style>\n",
       "<table border=\"1\" class=\"dataframe\">\n",
       "  <thead>\n",
       "    <tr style=\"text-align: right;\">\n",
       "      <th></th>\n",
       "      <th>Predicted ham</th>\n",
       "      <th>Predicted Spam</th>\n",
       "    </tr>\n",
       "  </thead>\n",
       "  <tbody>\n",
       "    <tr>\n",
       "      <td>Actual ham</td>\n",
       "      <td>718</td>\n",
       "      <td>6</td>\n",
       "    </tr>\n",
       "    <tr>\n",
       "      <td>Actual Spam</td>\n",
       "      <td>7</td>\n",
       "      <td>105</td>\n",
       "    </tr>\n",
       "  </tbody>\n",
       "</table>\n",
       "</div>"
      ],
      "text/plain": [
       "             Predicted ham  Predicted Spam\n",
       "Actual ham             718               6\n",
       "Actual Spam              7             105"
      ]
     },
     "metadata": {},
     "output_type": "display_data"
    },
    {
     "name": "stdout",
     "output_type": "stream",
     "text": [
      "              precision    recall  f1-score   support\n",
      "\n",
      "           0       0.99      0.99      0.99       724\n",
      "           1       0.95      0.95      0.95       112\n",
      "\n",
      "    accuracy                           0.99       836\n",
      "   macro avg       0.97      0.97      0.97       836\n",
      "weighted avg       0.99      0.99      0.99       836\n",
      "\n"
     ]
    },
    {
     "data": {
      "text/html": [
       "<div>\n",
       "<style scoped>\n",
       "    .dataframe tbody tr th:only-of-type {\n",
       "        vertical-align: middle;\n",
       "    }\n",
       "\n",
       "    .dataframe tbody tr th {\n",
       "        vertical-align: top;\n",
       "    }\n",
       "\n",
       "    .dataframe thead th {\n",
       "        text-align: right;\n",
       "    }\n",
       "</style>\n",
       "<table border=\"1\" class=\"dataframe\">\n",
       "  <thead>\n",
       "    <tr style=\"text-align: right;\">\n",
       "      <th></th>\n",
       "      <th>Predicted ham</th>\n",
       "      <th>Predicted Spam</th>\n",
       "    </tr>\n",
       "  </thead>\n",
       "  <tbody>\n",
       "    <tr>\n",
       "      <td>Actual ham</td>\n",
       "      <td>719</td>\n",
       "      <td>5</td>\n",
       "    </tr>\n",
       "    <tr>\n",
       "      <td>Actual Spam</td>\n",
       "      <td>6</td>\n",
       "      <td>106</td>\n",
       "    </tr>\n",
       "  </tbody>\n",
       "</table>\n",
       "</div>"
      ],
      "text/plain": [
       "             Predicted ham  Predicted Spam\n",
       "Actual ham             719               5\n",
       "Actual Spam              6             106"
      ]
     },
     "metadata": {},
     "output_type": "display_data"
    },
    {
     "name": "stdout",
     "output_type": "stream",
     "text": [
      "              precision    recall  f1-score   support\n",
      "\n",
      "           0       0.99      0.99      0.99       724\n",
      "           1       0.95      0.95      0.95       112\n",
      "\n",
      "    accuracy                           0.99       836\n",
      "   macro avg       0.97      0.97      0.97       836\n",
      "weighted avg       0.99      0.99      0.99       836\n",
      "\n"
     ]
    },
    {
     "data": {
      "text/html": [
       "<div>\n",
       "<style scoped>\n",
       "    .dataframe tbody tr th:only-of-type {\n",
       "        vertical-align: middle;\n",
       "    }\n",
       "\n",
       "    .dataframe tbody tr th {\n",
       "        vertical-align: top;\n",
       "    }\n",
       "\n",
       "    .dataframe thead th {\n",
       "        text-align: right;\n",
       "    }\n",
       "</style>\n",
       "<table border=\"1\" class=\"dataframe\">\n",
       "  <thead>\n",
       "    <tr style=\"text-align: right;\">\n",
       "      <th></th>\n",
       "      <th>Predicted ham</th>\n",
       "      <th>Predicted Spam</th>\n",
       "    </tr>\n",
       "  </thead>\n",
       "  <tbody>\n",
       "    <tr>\n",
       "      <td>Actual ham</td>\n",
       "      <td>719</td>\n",
       "      <td>5</td>\n",
       "    </tr>\n",
       "    <tr>\n",
       "      <td>Actual Spam</td>\n",
       "      <td>6</td>\n",
       "      <td>106</td>\n",
       "    </tr>\n",
       "  </tbody>\n",
       "</table>\n",
       "</div>"
      ],
      "text/plain": [
       "             Predicted ham  Predicted Spam\n",
       "Actual ham             719               5\n",
       "Actual Spam              6             106"
      ]
     },
     "metadata": {},
     "output_type": "display_data"
    },
    {
     "name": "stdout",
     "output_type": "stream",
     "text": [
      "              precision    recall  f1-score   support\n",
      "\n",
      "           0       0.99      0.99      0.99       724\n",
      "           1       0.95      0.95      0.95       112\n",
      "\n",
      "    accuracy                           0.99       836\n",
      "   macro avg       0.97      0.97      0.97       836\n",
      "weighted avg       0.99      0.99      0.99       836\n",
      "\n"
     ]
    },
    {
     "data": {
      "text/html": [
       "<div>\n",
       "<style scoped>\n",
       "    .dataframe tbody tr th:only-of-type {\n",
       "        vertical-align: middle;\n",
       "    }\n",
       "\n",
       "    .dataframe tbody tr th {\n",
       "        vertical-align: top;\n",
       "    }\n",
       "\n",
       "    .dataframe thead th {\n",
       "        text-align: right;\n",
       "    }\n",
       "</style>\n",
       "<table border=\"1\" class=\"dataframe\">\n",
       "  <thead>\n",
       "    <tr style=\"text-align: right;\">\n",
       "      <th></th>\n",
       "      <th>Predicted ham</th>\n",
       "      <th>Predicted Spam</th>\n",
       "    </tr>\n",
       "  </thead>\n",
       "  <tbody>\n",
       "    <tr>\n",
       "      <td>Actual ham</td>\n",
       "      <td>719</td>\n",
       "      <td>5</td>\n",
       "    </tr>\n",
       "    <tr>\n",
       "      <td>Actual Spam</td>\n",
       "      <td>6</td>\n",
       "      <td>106</td>\n",
       "    </tr>\n",
       "  </tbody>\n",
       "</table>\n",
       "</div>"
      ],
      "text/plain": [
       "             Predicted ham  Predicted Spam\n",
       "Actual ham             719               5\n",
       "Actual Spam              6             106"
      ]
     },
     "metadata": {},
     "output_type": "display_data"
    }
   ],
   "source": [
    "# Evluate all models with 1 layer\n",
    "evaluate(y_test, y_pred_tok_scratch_one_6)\n",
    "evaluate(y_test, y_pred_tok_scratch_one_12)\n",
    "evaluate(y_test, y_pred_tok_scratch_one_16)\n",
    "evaluate(y_test, y_pred_tok_scratch_one_36)"
   ]
  },
  {
   "cell_type": "code",
   "execution_count": 71,
   "metadata": {},
   "outputs": [
    {
     "name": "stderr",
     "output_type": "stream",
     "text": [
      "/Library/Frameworks/Python.framework/Versions/3.6/lib/python3.6/site-packages/tensorflow_core/python/framework/indexed_slices.py:424: UserWarning: Converting sparse IndexedSlices to a dense Tensor of unknown shape. This may consume a large amount of memory.\n",
      "  \"Converting sparse IndexedSlices to a dense Tensor of unknown shape. \"\n",
      "/Library/Frameworks/Python.framework/Versions/3.6/lib/python3.6/site-packages/tensorflow_core/python/framework/indexed_slices.py:424: UserWarning: Converting sparse IndexedSlices to a dense Tensor of unknown shape. This may consume a large amount of memory.\n",
      "  \"Converting sparse IndexedSlices to a dense Tensor of unknown shape. \"\n",
      "/Library/Frameworks/Python.framework/Versions/3.6/lib/python3.6/site-packages/tensorflow_core/python/framework/indexed_slices.py:424: UserWarning: Converting sparse IndexedSlices to a dense Tensor of unknown shape. This may consume a large amount of memory.\n",
      "  \"Converting sparse IndexedSlices to a dense Tensor of unknown shape. \"\n",
      "/Library/Frameworks/Python.framework/Versions/3.6/lib/python3.6/site-packages/tensorflow_core/python/framework/indexed_slices.py:424: UserWarning: Converting sparse IndexedSlices to a dense Tensor of unknown shape. This may consume a large amount of memory.\n",
      "  \"Converting sparse IndexedSlices to a dense Tensor of unknown shape. \"\n"
     ]
    }
   ],
   "source": [
    "# Word embedding from scratch with 3 layer\n",
    "# Train the models and get the history, prediction, and the models\n",
    "history_tok_scratch_three_6, y_pred_tok_scratch_three_6, model_tok_scratch_three_6 = tokenized_GRU_L3(6)\n",
    "history_tok_scratch_three_12, y_pred_tok_scratch_three_12, model_tok_scratch_three_12 = tokenized_GRU_L3(12)\n",
    "history_tok_scratch_three_16, y_pred_tok_scratch_three_16, model_tok_scratch_three_16 = tokenized_GRU_L3(16)\n",
    "history_tok_scratch_three_36, y_pred_tok_scratch_three_36, model_tok_scratch_three_36 = tokenized_GRU_L3(36)\n",
    "# Get the precision, recall, and the \n",
    "pr_tok_scratch_three_6, rc_tok_scratch_three_6, thresholds_tok_scratch_three_6 = precision_recall_curve(y_test, y_pred_tok_scratch_three_6)\n",
    "pr_tok_scratch_three_12, rc_tok_scratch_three_12, thresholds_tok_scratch_three_12 = precision_recall_curve(y_test, y_pred_tok_scratch_three_12)\n",
    "pr_tok_scratch_three_16, rc_tok_scratch_three_16, thresholds_tok_scratch_three_16 = precision_recall_curve(y_test, y_pred_tok_scratch_three_16)\n",
    "pr_tok_scratch_three_36, rc_tok_scratch_three_36, thresholds_tok_scratch_three_36 = precision_recall_curve(y_test, y_pred_tok_scratch_three_16)\n"
   ]
  },
  {
   "cell_type": "code",
   "execution_count": 72,
   "metadata": {},
   "outputs": [
    {
     "name": "stdout",
     "output_type": "stream",
     "text": [
      "              precision    recall  f1-score   support\n",
      "\n",
      "           0       0.99      0.99      0.99       724\n",
      "           1       0.95      0.95      0.95       112\n",
      "\n",
      "    accuracy                           0.99       836\n",
      "   macro avg       0.97      0.97      0.97       836\n",
      "weighted avg       0.99      0.99      0.99       836\n",
      "\n"
     ]
    },
    {
     "data": {
      "text/html": [
       "<div>\n",
       "<style scoped>\n",
       "    .dataframe tbody tr th:only-of-type {\n",
       "        vertical-align: middle;\n",
       "    }\n",
       "\n",
       "    .dataframe tbody tr th {\n",
       "        vertical-align: top;\n",
       "    }\n",
       "\n",
       "    .dataframe thead th {\n",
       "        text-align: right;\n",
       "    }\n",
       "</style>\n",
       "<table border=\"1\" class=\"dataframe\">\n",
       "  <thead>\n",
       "    <tr style=\"text-align: right;\">\n",
       "      <th></th>\n",
       "      <th>Predicted ham</th>\n",
       "      <th>Predicted Spam</th>\n",
       "    </tr>\n",
       "  </thead>\n",
       "  <tbody>\n",
       "    <tr>\n",
       "      <td>Actual ham</td>\n",
       "      <td>719</td>\n",
       "      <td>5</td>\n",
       "    </tr>\n",
       "    <tr>\n",
       "      <td>Actual Spam</td>\n",
       "      <td>6</td>\n",
       "      <td>106</td>\n",
       "    </tr>\n",
       "  </tbody>\n",
       "</table>\n",
       "</div>"
      ],
      "text/plain": [
       "             Predicted ham  Predicted Spam\n",
       "Actual ham             719               5\n",
       "Actual Spam              6             106"
      ]
     },
     "metadata": {},
     "output_type": "display_data"
    },
    {
     "name": "stdout",
     "output_type": "stream",
     "text": [
      "              precision    recall  f1-score   support\n",
      "\n",
      "           0       0.99      0.99      0.99       724\n",
      "           1       0.95      0.95      0.95       112\n",
      "\n",
      "    accuracy                           0.99       836\n",
      "   macro avg       0.97      0.97      0.97       836\n",
      "weighted avg       0.99      0.99      0.99       836\n",
      "\n"
     ]
    },
    {
     "data": {
      "text/html": [
       "<div>\n",
       "<style scoped>\n",
       "    .dataframe tbody tr th:only-of-type {\n",
       "        vertical-align: middle;\n",
       "    }\n",
       "\n",
       "    .dataframe tbody tr th {\n",
       "        vertical-align: top;\n",
       "    }\n",
       "\n",
       "    .dataframe thead th {\n",
       "        text-align: right;\n",
       "    }\n",
       "</style>\n",
       "<table border=\"1\" class=\"dataframe\">\n",
       "  <thead>\n",
       "    <tr style=\"text-align: right;\">\n",
       "      <th></th>\n",
       "      <th>Predicted ham</th>\n",
       "      <th>Predicted Spam</th>\n",
       "    </tr>\n",
       "  </thead>\n",
       "  <tbody>\n",
       "    <tr>\n",
       "      <td>Actual ham</td>\n",
       "      <td>719</td>\n",
       "      <td>5</td>\n",
       "    </tr>\n",
       "    <tr>\n",
       "      <td>Actual Spam</td>\n",
       "      <td>6</td>\n",
       "      <td>106</td>\n",
       "    </tr>\n",
       "  </tbody>\n",
       "</table>\n",
       "</div>"
      ],
      "text/plain": [
       "             Predicted ham  Predicted Spam\n",
       "Actual ham             719               5\n",
       "Actual Spam              6             106"
      ]
     },
     "metadata": {},
     "output_type": "display_data"
    },
    {
     "name": "stdout",
     "output_type": "stream",
     "text": [
      "              precision    recall  f1-score   support\n",
      "\n",
      "           0       0.99      0.99      0.99       724\n",
      "           1       0.95      0.95      0.95       112\n",
      "\n",
      "    accuracy                           0.99       836\n",
      "   macro avg       0.97      0.97      0.97       836\n",
      "weighted avg       0.99      0.99      0.99       836\n",
      "\n"
     ]
    },
    {
     "data": {
      "text/html": [
       "<div>\n",
       "<style scoped>\n",
       "    .dataframe tbody tr th:only-of-type {\n",
       "        vertical-align: middle;\n",
       "    }\n",
       "\n",
       "    .dataframe tbody tr th {\n",
       "        vertical-align: top;\n",
       "    }\n",
       "\n",
       "    .dataframe thead th {\n",
       "        text-align: right;\n",
       "    }\n",
       "</style>\n",
       "<table border=\"1\" class=\"dataframe\">\n",
       "  <thead>\n",
       "    <tr style=\"text-align: right;\">\n",
       "      <th></th>\n",
       "      <th>Predicted ham</th>\n",
       "      <th>Predicted Spam</th>\n",
       "    </tr>\n",
       "  </thead>\n",
       "  <tbody>\n",
       "    <tr>\n",
       "      <td>Actual ham</td>\n",
       "      <td>719</td>\n",
       "      <td>5</td>\n",
       "    </tr>\n",
       "    <tr>\n",
       "      <td>Actual Spam</td>\n",
       "      <td>6</td>\n",
       "      <td>106</td>\n",
       "    </tr>\n",
       "  </tbody>\n",
       "</table>\n",
       "</div>"
      ],
      "text/plain": [
       "             Predicted ham  Predicted Spam\n",
       "Actual ham             719               5\n",
       "Actual Spam              6             106"
      ]
     },
     "metadata": {},
     "output_type": "display_data"
    },
    {
     "name": "stdout",
     "output_type": "stream",
     "text": [
      "              precision    recall  f1-score   support\n",
      "\n",
      "           0       0.99      0.99      0.99       724\n",
      "           1       0.95      0.95      0.95       112\n",
      "\n",
      "    accuracy                           0.99       836\n",
      "   macro avg       0.97      0.97      0.97       836\n",
      "weighted avg       0.99      0.99      0.99       836\n",
      "\n"
     ]
    },
    {
     "data": {
      "text/html": [
       "<div>\n",
       "<style scoped>\n",
       "    .dataframe tbody tr th:only-of-type {\n",
       "        vertical-align: middle;\n",
       "    }\n",
       "\n",
       "    .dataframe tbody tr th {\n",
       "        vertical-align: top;\n",
       "    }\n",
       "\n",
       "    .dataframe thead th {\n",
       "        text-align: right;\n",
       "    }\n",
       "</style>\n",
       "<table border=\"1\" class=\"dataframe\">\n",
       "  <thead>\n",
       "    <tr style=\"text-align: right;\">\n",
       "      <th></th>\n",
       "      <th>Predicted ham</th>\n",
       "      <th>Predicted Spam</th>\n",
       "    </tr>\n",
       "  </thead>\n",
       "  <tbody>\n",
       "    <tr>\n",
       "      <td>Actual ham</td>\n",
       "      <td>719</td>\n",
       "      <td>5</td>\n",
       "    </tr>\n",
       "    <tr>\n",
       "      <td>Actual Spam</td>\n",
       "      <td>6</td>\n",
       "      <td>106</td>\n",
       "    </tr>\n",
       "  </tbody>\n",
       "</table>\n",
       "</div>"
      ],
      "text/plain": [
       "             Predicted ham  Predicted Spam\n",
       "Actual ham             719               5\n",
       "Actual Spam              6             106"
      ]
     },
     "metadata": {},
     "output_type": "display_data"
    }
   ],
   "source": [
    "# Evluate all models with 3 layer\n",
    "evaluate(y_test, y_pred_tok_scratch_three_6)\n",
    "evaluate(y_test, y_pred_tok_scratch_three_12)\n",
    "evaluate(y_test, y_pred_tok_scratch_three_16)\n",
    "evaluate(y_test, y_pred_tok_scratch_three_36)"
   ]
  },
  {
   "cell_type": "code",
   "execution_count": 61,
   "metadata": {},
   "outputs": [],
   "source": [
    "# Save the best model\n",
    "model_tok_scratch_three_36.save('rnn_model/gru_tok_embedding_scratch.h5') "
   ]
  },
  {
   "cell_type": "code",
   "execution_count": 73,
   "metadata": {},
   "outputs": [
    {
     "name": "stderr",
     "output_type": "stream",
     "text": [
      "/Library/Frameworks/Python.framework/Versions/3.6/lib/python3.6/site-packages/tensorflow_core/python/framework/indexed_slices.py:424: UserWarning: Converting sparse IndexedSlices to a dense Tensor of unknown shape. This may consume a large amount of memory.\n",
      "  \"Converting sparse IndexedSlices to a dense Tensor of unknown shape. \"\n",
      "/Library/Frameworks/Python.framework/Versions/3.6/lib/python3.6/site-packages/tensorflow_core/python/framework/indexed_slices.py:424: UserWarning: Converting sparse IndexedSlices to a dense Tensor of unknown shape. This may consume a large amount of memory.\n",
      "  \"Converting sparse IndexedSlices to a dense Tensor of unknown shape. \"\n",
      "/Library/Frameworks/Python.framework/Versions/3.6/lib/python3.6/site-packages/tensorflow_core/python/framework/indexed_slices.py:424: UserWarning: Converting sparse IndexedSlices to a dense Tensor of unknown shape. This may consume a large amount of memory.\n",
      "  \"Converting sparse IndexedSlices to a dense Tensor of unknown shape. \"\n",
      "/Library/Frameworks/Python.framework/Versions/3.6/lib/python3.6/site-packages/tensorflow_core/python/framework/indexed_slices.py:424: UserWarning: Converting sparse IndexedSlices to a dense Tensor of unknown shape. This may consume a large amount of memory.\n",
      "  \"Converting sparse IndexedSlices to a dense Tensor of unknown shape. \"\n"
     ]
    }
   ],
   "source": [
    "# Word embedding from scratch with 6 layer\n",
    "# Train the models and get the history, prediction, and the models\n",
    "history_tok_scratch_six_6, y_pred_tok_scratch_six_6, model_tok_scratch_six_6 = tokenized_GRU_L6(6)\n",
    "history_tok_scratch_six_12, y_pred_tok_scratch_six_12, model_tok_scratch_six_12 = tokenized_GRU_L6(12)\n",
    "history_tok_scratch_six_16, y_pred_tok_scratch_six_16, model_tok_scratch_six_16 = tokenized_GRU_L6(16)\n",
    "history_tok_scratch_six_36, y_pred_tok_scratch_six_36, model_tok_scratch_six_36 = tokenized_GRU_L6(36)\n",
    "# Get the precision, recall, and the \n",
    "pr_tok_scratch_six_6, rc_tok_scratch_six_6, thresholds_tok_scratch_six_6 = precision_recall_curve(y_test, y_pred_tok_scratch_six_6)\n",
    "pr_tok_scratch_six_12, rc_tok_scratch_six_12, thresholds_tok_scratch_six_12 = precision_recall_curve(y_test, y_pred_tok_scratch_six_12)\n",
    "pr_tok_scratch_six_16, rc_tok_scratch_six_16, thresholds_tok_scratch_six_16 = precision_recall_curve(y_test, y_pred_tok_scratch_six_16)\n",
    "pr_tok_scratch_six_36, rc_tok_scratch_six_36, thresholds_tok_scratch_six_36 = precision_recall_curve(y_test, y_pred_tok_scratch_six_16)\n"
   ]
  },
  {
   "cell_type": "code",
   "execution_count": 74,
   "metadata": {},
   "outputs": [
    {
     "name": "stdout",
     "output_type": "stream",
     "text": [
      "              precision    recall  f1-score   support\n",
      "\n",
      "           0       0.98      0.98      0.98       724\n",
      "           1       0.89      0.88      0.89       112\n",
      "\n",
      "    accuracy                           0.97       836\n",
      "   macro avg       0.94      0.93      0.94       836\n",
      "weighted avg       0.97      0.97      0.97       836\n",
      "\n"
     ]
    },
    {
     "data": {
      "text/html": [
       "<div>\n",
       "<style scoped>\n",
       "    .dataframe tbody tr th:only-of-type {\n",
       "        vertical-align: middle;\n",
       "    }\n",
       "\n",
       "    .dataframe tbody tr th {\n",
       "        vertical-align: top;\n",
       "    }\n",
       "\n",
       "    .dataframe thead th {\n",
       "        text-align: right;\n",
       "    }\n",
       "</style>\n",
       "<table border=\"1\" class=\"dataframe\">\n",
       "  <thead>\n",
       "    <tr style=\"text-align: right;\">\n",
       "      <th></th>\n",
       "      <th>Predicted ham</th>\n",
       "      <th>Predicted Spam</th>\n",
       "    </tr>\n",
       "  </thead>\n",
       "  <tbody>\n",
       "    <tr>\n",
       "      <td>Actual ham</td>\n",
       "      <td>712</td>\n",
       "      <td>12</td>\n",
       "    </tr>\n",
       "    <tr>\n",
       "      <td>Actual Spam</td>\n",
       "      <td>13</td>\n",
       "      <td>99</td>\n",
       "    </tr>\n",
       "  </tbody>\n",
       "</table>\n",
       "</div>"
      ],
      "text/plain": [
       "             Predicted ham  Predicted Spam\n",
       "Actual ham             712              12\n",
       "Actual Spam             13              99"
      ]
     },
     "metadata": {},
     "output_type": "display_data"
    },
    {
     "name": "stdout",
     "output_type": "stream",
     "text": [
      "              precision    recall  f1-score   support\n",
      "\n",
      "           0       0.99      0.99      0.99       724\n",
      "           1       0.95      0.94      0.94       112\n",
      "\n",
      "    accuracy                           0.98       836\n",
      "   macro avg       0.97      0.96      0.97       836\n",
      "weighted avg       0.98      0.98      0.98       836\n",
      "\n"
     ]
    },
    {
     "data": {
      "text/html": [
       "<div>\n",
       "<style scoped>\n",
       "    .dataframe tbody tr th:only-of-type {\n",
       "        vertical-align: middle;\n",
       "    }\n",
       "\n",
       "    .dataframe tbody tr th {\n",
       "        vertical-align: top;\n",
       "    }\n",
       "\n",
       "    .dataframe thead th {\n",
       "        text-align: right;\n",
       "    }\n",
       "</style>\n",
       "<table border=\"1\" class=\"dataframe\">\n",
       "  <thead>\n",
       "    <tr style=\"text-align: right;\">\n",
       "      <th></th>\n",
       "      <th>Predicted ham</th>\n",
       "      <th>Predicted Spam</th>\n",
       "    </tr>\n",
       "  </thead>\n",
       "  <tbody>\n",
       "    <tr>\n",
       "      <td>Actual ham</td>\n",
       "      <td>718</td>\n",
       "      <td>6</td>\n",
       "    </tr>\n",
       "    <tr>\n",
       "      <td>Actual Spam</td>\n",
       "      <td>7</td>\n",
       "      <td>105</td>\n",
       "    </tr>\n",
       "  </tbody>\n",
       "</table>\n",
       "</div>"
      ],
      "text/plain": [
       "             Predicted ham  Predicted Spam\n",
       "Actual ham             718               6\n",
       "Actual Spam              7             105"
      ]
     },
     "metadata": {},
     "output_type": "display_data"
    },
    {
     "name": "stdout",
     "output_type": "stream",
     "text": [
      "              precision    recall  f1-score   support\n",
      "\n",
      "           0       0.99      0.99      0.99       724\n",
      "           1       0.95      0.95      0.95       112\n",
      "\n",
      "    accuracy                           0.99       836\n",
      "   macro avg       0.97      0.97      0.97       836\n",
      "weighted avg       0.99      0.99      0.99       836\n",
      "\n"
     ]
    },
    {
     "data": {
      "text/html": [
       "<div>\n",
       "<style scoped>\n",
       "    .dataframe tbody tr th:only-of-type {\n",
       "        vertical-align: middle;\n",
       "    }\n",
       "\n",
       "    .dataframe tbody tr th {\n",
       "        vertical-align: top;\n",
       "    }\n",
       "\n",
       "    .dataframe thead th {\n",
       "        text-align: right;\n",
       "    }\n",
       "</style>\n",
       "<table border=\"1\" class=\"dataframe\">\n",
       "  <thead>\n",
       "    <tr style=\"text-align: right;\">\n",
       "      <th></th>\n",
       "      <th>Predicted ham</th>\n",
       "      <th>Predicted Spam</th>\n",
       "    </tr>\n",
       "  </thead>\n",
       "  <tbody>\n",
       "    <tr>\n",
       "      <td>Actual ham</td>\n",
       "      <td>719</td>\n",
       "      <td>5</td>\n",
       "    </tr>\n",
       "    <tr>\n",
       "      <td>Actual Spam</td>\n",
       "      <td>6</td>\n",
       "      <td>106</td>\n",
       "    </tr>\n",
       "  </tbody>\n",
       "</table>\n",
       "</div>"
      ],
      "text/plain": [
       "             Predicted ham  Predicted Spam\n",
       "Actual ham             719               5\n",
       "Actual Spam              6             106"
      ]
     },
     "metadata": {},
     "output_type": "display_data"
    },
    {
     "name": "stdout",
     "output_type": "stream",
     "text": [
      "              precision    recall  f1-score   support\n",
      "\n",
      "           0       0.99      0.99      0.99       724\n",
      "           1       0.96      0.95      0.95       112\n",
      "\n",
      "    accuracy                           0.99       836\n",
      "   macro avg       0.98      0.97      0.97       836\n",
      "weighted avg       0.99      0.99      0.99       836\n",
      "\n"
     ]
    },
    {
     "data": {
      "text/html": [
       "<div>\n",
       "<style scoped>\n",
       "    .dataframe tbody tr th:only-of-type {\n",
       "        vertical-align: middle;\n",
       "    }\n",
       "\n",
       "    .dataframe tbody tr th {\n",
       "        vertical-align: top;\n",
       "    }\n",
       "\n",
       "    .dataframe thead th {\n",
       "        text-align: right;\n",
       "    }\n",
       "</style>\n",
       "<table border=\"1\" class=\"dataframe\">\n",
       "  <thead>\n",
       "    <tr style=\"text-align: right;\">\n",
       "      <th></th>\n",
       "      <th>Predicted ham</th>\n",
       "      <th>Predicted Spam</th>\n",
       "    </tr>\n",
       "  </thead>\n",
       "  <tbody>\n",
       "    <tr>\n",
       "      <td>Actual ham</td>\n",
       "      <td>720</td>\n",
       "      <td>4</td>\n",
       "    </tr>\n",
       "    <tr>\n",
       "      <td>Actual Spam</td>\n",
       "      <td>6</td>\n",
       "      <td>106</td>\n",
       "    </tr>\n",
       "  </tbody>\n",
       "</table>\n",
       "</div>"
      ],
      "text/plain": [
       "             Predicted ham  Predicted Spam\n",
       "Actual ham             720               4\n",
       "Actual Spam              6             106"
      ]
     },
     "metadata": {},
     "output_type": "display_data"
    }
   ],
   "source": [
    "# Evluate all models with 3 layer\n",
    "evaluate(y_test, y_pred_tok_scratch_six_6)\n",
    "evaluate(y_test, y_pred_tok_scratch_six_12)\n",
    "evaluate(y_test, y_pred_tok_scratch_six_16)\n",
    "evaluate(y_test, y_pred_tok_scratch_six_36)"
   ]
  },
  {
   "cell_type": "code",
   "execution_count": 75,
   "metadata": {},
   "outputs": [
    {
     "data": {
      "image/png": "[encoded data removed]",
      "text/plain": [
       "<Figure size 432x288 with 1 Axes>"
      ]
     },
     "metadata": {},
     "output_type": "display_data"
    }
   ],
   "source": [
    "# Plot the precision and recall plot\n",
    "plt.plot(rc_tok_scratch_one_36, pr_tok_scratch_one_36, linestyle='--', label='L1-36 node')\n",
    "plt.plot(rc_tok_scratch_three_36, pr_tok_scratch_three_36, linestyle='--', label='L3-36 node')\n",
    "plt.plot(rc_tok_scratch_six_36, pr_tok_scratch_six_36, linestyle='--', label='L6-36 node')\n",
    "# axis labels\n",
    "plt.xlabel('Recall')\n",
    "plt.ylabel('Precision')\n",
    "# show the legend\n",
    "plt.legend()\n",
    "# show the plot\n",
    "plt.show()"
   ]
  },
  {
   "cell_type": "markdown",
   "metadata": {},
   "source": [
    "## c. GRU with td-idf vectorized data (takes a long time to run)"
   ]
  },
  {
   "cell_type": "code",
   "execution_count": null,
   "metadata": {},
   "outputs": [],
   "source": [
    "# Explore Term Frequency Inverse Document Frequency (TF-IDF) (Source: )\n",
    "vectorizer = TfidfVectorizer()\n",
    "vectorizer.fit(x_train)\n",
    "x_train_vec = vectorizer.transform(x_train).toarray()\n",
    "x_test_vec = vectorizer.transform(x_test).toarray()"
   ]
  },
  {
   "cell_type": "code",
   "execution_count": null,
   "metadata": {},
   "outputs": [],
   "source": [
    "def tdidf_GRU_three(num_node):\n",
    "    random.seed(42)\n",
    "    inp = Input(shape=(x_train_vec.shape[1],))\n",
    "    # Embedding layer: vocab_size is the count of unique token + 1 for the 0 we added, embed size is the size of the vector space for which the words are embedded. \n",
    "    x = Embedding(x_train_vec.shape[1], 100)(inp)\n",
    "    # Bidirectional with Graded Recurrent Unit\n",
    "    x = Bidirectional(GRU(64, return_sequences=True))(x)\n",
    "    x = GlobalMaxPool1D()(x)\n",
    "    x = Dense(num_node, activation=\"relu\")(x)\n",
    "    x = Dense(num_node, activation=\"relu\")(x)\n",
    "    x = Dense(num_node, activation=\"relu\")(x)\n",
    "    x = Dropout(0.1)(x)\n",
    "    x = Dense(1, activation=\"sigmoid\")(x)\n",
    "    model = Model(inputs=inp, outputs=x)\n",
    "    model.compile(loss='binary_crossentropy', optimizer='adam', metrics=['accuracy'])\n",
    "    history = model.fit(x_train_vec, y_train, batch_size=128, epochs=10, validation_data=(x_test_vec, y_test), verbose=0)\n",
    "    y_pred = model.predict(x_test_vec)\n",
    "    return history, y_pred, model"
   ]
  },
  {
   "cell_type": "code",
   "execution_count": null,
   "metadata": {},
   "outputs": [],
   "source": [
    "# Since three layers with 36 nodes perform the best, we will use this architecture to train on td-idf vectorized data\n",
    "hist_tdidf, y_pred_tdidf, model_tdidf_scratch_three_36 = tdidf_GRU_three(36)\n",
    "model_tdidf_scratch_three_36.save('rnn_model/gru_tdidf_embedding_scratch.h5') "
   ]
  },
  {
   "cell_type": "markdown",
   "metadata": {},
   "source": [
    "## 2. GRU with GloVe pre-trained embedding layer"
   ]
  },
  {
   "cell_type": "code",
   "execution_count": 77,
   "metadata": {},
   "outputs": [
    {
     "name": "stdout",
     "output_type": "stream",
     "text": [
      "Loaded 400000 word vectors.\n"
     ]
    }
   ],
   "source": [
    "# Empty dictionary\n",
    "embeddings_index = dict()\n",
    "f = open('glove.6B.300d.txt')\n",
    "# Write pretrained word embedding layer to a dictoray\n",
    "for line in f:\n",
    "    # split up word and the vector\n",
    "    values = line.split()\n",
    "    # Get an index for that word\n",
    "    word = values[0]\n",
    "    # Put the word vectors as a numpy array\n",
    "    coefs = np.asarray(values[1:], dtype='float32')\n",
    "    # Put each word vector to map to its index for that word\n",
    "    embeddings_index[word] = coefs\n",
    "f.close()\n",
    "print('Loaded %s word vectors.' % len(embeddings_index))"
   ]
  },
  {
   "cell_type": "code",
   "execution_count": 78,
   "metadata": {},
   "outputs": [],
   "source": [
    "# create a weight matrix for words in training docs\n",
    "# We can set our parameter instead of 300, vocab_size is how many tokens we have assigned, or the number of words\n",
    "embedding_matrix = np.zeros((vocab_size, 300))\n",
    "# Loop through the words and index and create a embedding matrix using each word vector\n",
    "for word, i in tok.word_index.items():\n",
    "    embedding_vector = embeddings_index.get(word)\n",
    "    if embedding_vector is not None:\n",
    "        embedding_matrix[i] = embedding_vector"
   ]
  },
  {
   "cell_type": "code",
   "execution_count": 79,
   "metadata": {},
   "outputs": [],
   "source": [
    "def pretrainedGRU_L1(num_node):\n",
    "    random.seed(42)\n",
    "    inp = Input(shape=(max_len,))\n",
    "    # Embedding layer: vocab_size is the count of unique token + 1 for the 0 we added, embed size is the size of the vector space for which the words are embedded. \n",
    "    x = Embedding(vocab_size, 300, weights=[embedding_matrix], trainable=False)(inp)\n",
    "    # Bidirectional with Graded Recurrent Unit\n",
    "    x = Bidirectional(GRU(64, return_sequences=True))(x)\n",
    "    x = GlobalMaxPool1D()(x)\n",
    "    x = Dense(num_node, activation=\"relu\")(x)\n",
    "    x = Dropout(0.1)(x)\n",
    "    x = Dense(1, activation=\"sigmoid\")(x)\n",
    "    model = Model(inputs=inp, outputs=x)\n",
    "    model.compile(loss='binary_crossentropy', optimizer='adam', metrics=['accuracy'])\n",
    "    history = model.fit(x_train_features, y_train, batch_size=512, epochs=20, validation_data=(x_test_features, y_test), verbose=0)\n",
    "    y_pred = model.predict(x_test_features)\n",
    "    return history, y_pred, model"
   ]
  },
  {
   "cell_type": "code",
   "execution_count": 80,
   "metadata": {},
   "outputs": [],
   "source": [
    "def pretrainedGRU_L3(num_node):\n",
    "    random.seed(42)\n",
    "    inp = Input(shape=(max_len,))\n",
    "    # Embedding layer: vocab_size is the count of unique token + 1 for the 0 we added, embed size is the size of the vector space for which the words are embedded. \n",
    "    x = Embedding(vocab_size, 300, weights=[embedding_matrix], trainable=False)(inp)\n",
    "    # Bidirectional with Graded Recurrent Unit\n",
    "    x = Bidirectional(GRU(64, return_sequences=True))(x)\n",
    "    x = GlobalMaxPool1D()(x)\n",
    "    x = Dense(num_node, activation=\"relu\")(x)\n",
    "    x = Dense(num_node, activation=\"relu\")(x)\n",
    "    x = Dense(num_node, activation=\"relu\")(x)\n",
    "    x = Dropout(0.1)(x)\n",
    "    x = Dense(1, activation=\"sigmoid\")(x)\n",
    "    model = Model(inputs=inp, outputs=x)\n",
    "    model.compile(loss='binary_crossentropy', optimizer='adam', metrics=['accuracy'])\n",
    "    history = model.fit(x_train_features, y_train, batch_size=512, epochs=20, validation_data=(x_test_features, y_test), verbose =0)\n",
    "    y_pred = model.predict(x_test_features)\n",
    "    return history,y_pred, model"
   ]
  },
  {
   "cell_type": "code",
   "execution_count": 81,
   "metadata": {},
   "outputs": [],
   "source": [
    "def pretrainedGRU_L6(num_node):\n",
    "    random.seed(42)\n",
    "    inp = Input(shape=(max_len,))\n",
    "    # Embedding layer: vocab_size is the count of unique token + 1 for the 0 we added, embed size is the size of the vector space for which the words are embedded. \n",
    "    x = Embedding(vocab_size, 300, weights=[embedding_matrix], trainable=False)(inp)\n",
    "    # Bidirectional with Graded Recurrent Unit\n",
    "    x = Bidirectional(GRU(64, return_sequences=True))(x)\n",
    "    x = GlobalMaxPool1D()(x)\n",
    "    x = Dense(num_node, activation=\"relu\")(x)\n",
    "    x = Dense(num_node, activation=\"relu\")(x)\n",
    "    x = Dense(num_node, activation=\"relu\")(x)\n",
    "    x = Dense(num_node, activation=\"relu\")(x)\n",
    "    x = Dense(num_node, activation=\"relu\")(x)\n",
    "    x = Dense(num_node, activation=\"relu\")(x)\n",
    "    x = Dropout(0.1)(x)\n",
    "    x = Dense(1, activation=\"sigmoid\")(x)\n",
    "    model = Model(inputs=inp, outputs=x)\n",
    "    model.compile(loss='binary_crossentropy', optimizer='adam', metrics=['accuracy'])\n",
    "    history = model.fit(x_train_features, y_train, batch_size=512, epochs=20, validation_data=(x_test_features, y_test))\n",
    "    y_pred = model.predict(x_test_features)\n",
    "    return history,y_pred, model"
   ]
  },
  {
   "cell_type": "code",
   "execution_count": 82,
   "metadata": {},
   "outputs": [],
   "source": [
    "history_tok_pretrained_one_6, y_pred_tok_pretrained_one_6, model_tok_pretrained_one_6 = pretrainedGRU_L1(6)\n",
    "history_tok_pretrained_one_12, y_pred_tok_pretrained_one_12, model_tok_pretrained_one_12 = pretrainedGRU_L1(12)\n",
    "history_tok_pretrained_one_16, y_pred_tok_pretrained_one_16, model_tok_pretrained_one_16 = pretrainedGRU_L1(16)\n",
    "history_tok_pretrained_one_36, y_pred_tok_pretrained_one_36, model_tok_pretrained_one_36 = pretrainedGRU_L1(36)"
   ]
  },
  {
   "cell_type": "code",
   "execution_count": 83,
   "metadata": {},
   "outputs": [],
   "source": [
    "# Get the precision, recall, and the \n",
    "pr_tok_pretrained_one_6, rc_tok_pretrained_one_6, thresholds_tok_pretrained_one_6 = precision_recall_curve(y_test, y_pred_tok_pretrained_one_6)\n",
    "pr_tok_pretrained_one_12, rc_tok_pretrained_one_12, thresholds_tok_pretrained_one_12 = precision_recall_curve(y_test, y_pred_tok_pretrained_one_12)\n",
    "pr_tok_pretrained_one_16, rc_tok_pretrained_one_16, thresholds_tok_pretrained_one_16 = precision_recall_curve(y_test, y_pred_tok_pretrained_one_16)\n",
    "pr_tok_pretrained_one_36, rc_tok_pretrained_one_36, thresholds_tok_pretrained_one_36 = precision_recall_curve(y_test, y_pred_tok_pretrained_one_36)\n"
   ]
  },
  {
   "cell_type": "code",
   "execution_count": 84,
   "metadata": {},
   "outputs": [
    {
     "name": "stdout",
     "output_type": "stream",
     "text": [
      "              precision    recall  f1-score   support\n",
      "\n",
      "           0       0.99      0.99      0.99       724\n",
      "           1       0.95      0.95      0.95       112\n",
      "\n",
      "    accuracy                           0.99       836\n",
      "   macro avg       0.97      0.97      0.97       836\n",
      "weighted avg       0.99      0.99      0.99       836\n",
      "\n"
     ]
    },
    {
     "data": {
      "text/html": [
       "<div>\n",
       "<style scoped>\n",
       "    .dataframe tbody tr th:only-of-type {\n",
       "        vertical-align: middle;\n",
       "    }\n",
       "\n",
       "    .dataframe tbody tr th {\n",
       "        vertical-align: top;\n",
       "    }\n",
       "\n",
       "    .dataframe thead th {\n",
       "        text-align: right;\n",
       "    }\n",
       "</style>\n",
       "<table border=\"1\" class=\"dataframe\">\n",
       "  <thead>\n",
       "    <tr style=\"text-align: right;\">\n",
       "      <th></th>\n",
       "      <th>Predicted ham</th>\n",
       "      <th>Predicted Spam</th>\n",
       "    </tr>\n",
       "  </thead>\n",
       "  <tbody>\n",
       "    <tr>\n",
       "      <td>Actual ham</td>\n",
       "      <td>719</td>\n",
       "      <td>5</td>\n",
       "    </tr>\n",
       "    <tr>\n",
       "      <td>Actual Spam</td>\n",
       "      <td>6</td>\n",
       "      <td>106</td>\n",
       "    </tr>\n",
       "  </tbody>\n",
       "</table>\n",
       "</div>"
      ],
      "text/plain": [
       "             Predicted ham  Predicted Spam\n",
       "Actual ham             719               5\n",
       "Actual Spam              6             106"
      ]
     },
     "metadata": {},
     "output_type": "display_data"
    },
    {
     "name": "stdout",
     "output_type": "stream",
     "text": [
      "              precision    recall  f1-score   support\n",
      "\n",
      "           0       0.99      1.00      0.99       724\n",
      "           1       0.97      0.96      0.96       112\n",
      "\n",
      "    accuracy                           0.99       836\n",
      "   macro avg       0.98      0.98      0.98       836\n",
      "weighted avg       0.99      0.99      0.99       836\n",
      "\n"
     ]
    },
    {
     "data": {
      "text/html": [
       "<div>\n",
       "<style scoped>\n",
       "    .dataframe tbody tr th:only-of-type {\n",
       "        vertical-align: middle;\n",
       "    }\n",
       "\n",
       "    .dataframe tbody tr th {\n",
       "        vertical-align: top;\n",
       "    }\n",
       "\n",
       "    .dataframe thead th {\n",
       "        text-align: right;\n",
       "    }\n",
       "</style>\n",
       "<table border=\"1\" class=\"dataframe\">\n",
       "  <thead>\n",
       "    <tr style=\"text-align: right;\">\n",
       "      <th></th>\n",
       "      <th>Predicted ham</th>\n",
       "      <th>Predicted Spam</th>\n",
       "    </tr>\n",
       "  </thead>\n",
       "  <tbody>\n",
       "    <tr>\n",
       "      <td>Actual ham</td>\n",
       "      <td>721</td>\n",
       "      <td>3</td>\n",
       "    </tr>\n",
       "    <tr>\n",
       "      <td>Actual Spam</td>\n",
       "      <td>5</td>\n",
       "      <td>107</td>\n",
       "    </tr>\n",
       "  </tbody>\n",
       "</table>\n",
       "</div>"
      ],
      "text/plain": [
       "             Predicted ham  Predicted Spam\n",
       "Actual ham             721               3\n",
       "Actual Spam              5             107"
      ]
     },
     "metadata": {},
     "output_type": "display_data"
    },
    {
     "name": "stdout",
     "output_type": "stream",
     "text": [
      "              precision    recall  f1-score   support\n",
      "\n",
      "           0       0.99      0.99      0.99       724\n",
      "           1       0.95      0.94      0.94       112\n",
      "\n",
      "    accuracy                           0.98       836\n",
      "   macro avg       0.97      0.96      0.97       836\n",
      "weighted avg       0.98      0.98      0.98       836\n",
      "\n"
     ]
    },
    {
     "data": {
      "text/html": [
       "<div>\n",
       "<style scoped>\n",
       "    .dataframe tbody tr th:only-of-type {\n",
       "        vertical-align: middle;\n",
       "    }\n",
       "\n",
       "    .dataframe tbody tr th {\n",
       "        vertical-align: top;\n",
       "    }\n",
       "\n",
       "    .dataframe thead th {\n",
       "        text-align: right;\n",
       "    }\n",
       "</style>\n",
       "<table border=\"1\" class=\"dataframe\">\n",
       "  <thead>\n",
       "    <tr style=\"text-align: right;\">\n",
       "      <th></th>\n",
       "      <th>Predicted ham</th>\n",
       "      <th>Predicted Spam</th>\n",
       "    </tr>\n",
       "  </thead>\n",
       "  <tbody>\n",
       "    <tr>\n",
       "      <td>Actual ham</td>\n",
       "      <td>718</td>\n",
       "      <td>6</td>\n",
       "    </tr>\n",
       "    <tr>\n",
       "      <td>Actual Spam</td>\n",
       "      <td>7</td>\n",
       "      <td>105</td>\n",
       "    </tr>\n",
       "  </tbody>\n",
       "</table>\n",
       "</div>"
      ],
      "text/plain": [
       "             Predicted ham  Predicted Spam\n",
       "Actual ham             718               6\n",
       "Actual Spam              7             105"
      ]
     },
     "metadata": {},
     "output_type": "display_data"
    },
    {
     "name": "stdout",
     "output_type": "stream",
     "text": [
      "              precision    recall  f1-score   support\n",
      "\n",
      "           0       0.99      0.99      0.99       724\n",
      "           1       0.96      0.96      0.96       112\n",
      "\n",
      "    accuracy                           0.99       836\n",
      "   macro avg       0.98      0.97      0.98       836\n",
      "weighted avg       0.99      0.99      0.99       836\n",
      "\n"
     ]
    },
    {
     "data": {
      "text/html": [
       "<div>\n",
       "<style scoped>\n",
       "    .dataframe tbody tr th:only-of-type {\n",
       "        vertical-align: middle;\n",
       "    }\n",
       "\n",
       "    .dataframe tbody tr th {\n",
       "        vertical-align: top;\n",
       "    }\n",
       "\n",
       "    .dataframe thead th {\n",
       "        text-align: right;\n",
       "    }\n",
       "</style>\n",
       "<table border=\"1\" class=\"dataframe\">\n",
       "  <thead>\n",
       "    <tr style=\"text-align: right;\">\n",
       "      <th></th>\n",
       "      <th>Predicted ham</th>\n",
       "      <th>Predicted Spam</th>\n",
       "    </tr>\n",
       "  </thead>\n",
       "  <tbody>\n",
       "    <tr>\n",
       "      <td>Actual ham</td>\n",
       "      <td>720</td>\n",
       "      <td>4</td>\n",
       "    </tr>\n",
       "    <tr>\n",
       "      <td>Actual Spam</td>\n",
       "      <td>5</td>\n",
       "      <td>107</td>\n",
       "    </tr>\n",
       "  </tbody>\n",
       "</table>\n",
       "</div>"
      ],
      "text/plain": [
       "             Predicted ham  Predicted Spam\n",
       "Actual ham             720               4\n",
       "Actual Spam              5             107"
      ]
     },
     "metadata": {},
     "output_type": "display_data"
    }
   ],
   "source": [
    "# Evaluate all the pretrained models with 1 layers \n",
    "evaluate(y_test, y_pred_tok_pretrained_one_6)\n",
    "evaluate(y_test, y_pred_tok_pretrained_one_12)\n",
    "evaluate(y_test, y_pred_tok_pretrained_one_16)\n",
    "evaluate(y_test, y_pred_tok_pretrained_one_36)"
   ]
  },
  {
   "cell_type": "code",
   "execution_count": 85,
   "metadata": {},
   "outputs": [],
   "source": [
    "history_tok_pretrained_three_6, y_pred_tok_pretrained_three_6, model_tok_pretrained_three_6 = pretrainedGRU_L3(6)\n",
    "history_tok_pretrained_three_12, y_pred_tok_pretrained_three_12, model_tok_pretrained_three_12 = pretrainedGRU_L3(12)\n",
    "history_tok_pretrained_three_16, y_pred_tok_pretrained_three_16, model_tok_pretrained_three_16 = pretrainedGRU_L3(16)\n",
    "history_tok_pretrained_three_36, y_pred_tok_pretrained_three_36, model_tok_pretrained_three_36 = pretrainedGRU_L3(36)\n"
   ]
  },
  {
   "cell_type": "code",
   "execution_count": 86,
   "metadata": {},
   "outputs": [],
   "source": [
    "# Get the precision, recall, and the \n",
    "pr_tok_pretrained_three_6, rc_tok_pretrained_three_6, thresholds_tok_pretrained_three_6 = precision_recall_curve(y_test, y_pred_tok_pretrained_three_6)\n",
    "pr_tok_pretrained_three_12, rc_tok_pretrained_three_12, thresholds_tok_pretrained_three_12 = precision_recall_curve(y_test, y_pred_tok_pretrained_three_12)\n",
    "pr_tok_pretrained_three_16, rc_tok_pretrained_three_16, thresholds_tok_pretrained_three_16 = precision_recall_curve(y_test, y_pred_tok_pretrained_three_16)\n",
    "pr_tok_pretrained_three_36, rc_tok_pretrained_three_36, thresholds_tok_pretrained_three_36 = precision_recall_curve(y_test, y_pred_tok_pretrained_three_36)\n"
   ]
  },
  {
   "cell_type": "code",
   "execution_count": 87,
   "metadata": {},
   "outputs": [
    {
     "name": "stdout",
     "output_type": "stream",
     "text": [
      "              precision    recall  f1-score   support\n",
      "\n",
      "           0       0.99      0.99      0.99       724\n",
      "           1       0.95      0.94      0.94       112\n",
      "\n",
      "    accuracy                           0.98       836\n",
      "   macro avg       0.97      0.96      0.97       836\n",
      "weighted avg       0.98      0.98      0.98       836\n",
      "\n"
     ]
    },
    {
     "data": {
      "text/html": [
       "<div>\n",
       "<style scoped>\n",
       "    .dataframe tbody tr th:only-of-type {\n",
       "        vertical-align: middle;\n",
       "    }\n",
       "\n",
       "    .dataframe tbody tr th {\n",
       "        vertical-align: top;\n",
       "    }\n",
       "\n",
       "    .dataframe thead th {\n",
       "        text-align: right;\n",
       "    }\n",
       "</style>\n",
       "<table border=\"1\" class=\"dataframe\">\n",
       "  <thead>\n",
       "    <tr style=\"text-align: right;\">\n",
       "      <th></th>\n",
       "      <th>Predicted ham</th>\n",
       "      <th>Predicted Spam</th>\n",
       "    </tr>\n",
       "  </thead>\n",
       "  <tbody>\n",
       "    <tr>\n",
       "      <td>Actual ham</td>\n",
       "      <td>718</td>\n",
       "      <td>6</td>\n",
       "    </tr>\n",
       "    <tr>\n",
       "      <td>Actual Spam</td>\n",
       "      <td>7</td>\n",
       "      <td>105</td>\n",
       "    </tr>\n",
       "  </tbody>\n",
       "</table>\n",
       "</div>"
      ],
      "text/plain": [
       "             Predicted ham  Predicted Spam\n",
       "Actual ham             718               6\n",
       "Actual Spam              7             105"
      ]
     },
     "metadata": {},
     "output_type": "display_data"
    },
    {
     "name": "stdout",
     "output_type": "stream",
     "text": [
      "              precision    recall  f1-score   support\n",
      "\n",
      "           0       0.99      0.99      0.99       724\n",
      "           1       0.95      0.94      0.94       112\n",
      "\n",
      "    accuracy                           0.98       836\n",
      "   macro avg       0.97      0.96      0.97       836\n",
      "weighted avg       0.98      0.98      0.98       836\n",
      "\n"
     ]
    },
    {
     "data": {
      "text/html": [
       "<div>\n",
       "<style scoped>\n",
       "    .dataframe tbody tr th:only-of-type {\n",
       "        vertical-align: middle;\n",
       "    }\n",
       "\n",
       "    .dataframe tbody tr th {\n",
       "        vertical-align: top;\n",
       "    }\n",
       "\n",
       "    .dataframe thead th {\n",
       "        text-align: right;\n",
       "    }\n",
       "</style>\n",
       "<table border=\"1\" class=\"dataframe\">\n",
       "  <thead>\n",
       "    <tr style=\"text-align: right;\">\n",
       "      <th></th>\n",
       "      <th>Predicted ham</th>\n",
       "      <th>Predicted Spam</th>\n",
       "    </tr>\n",
       "  </thead>\n",
       "  <tbody>\n",
       "    <tr>\n",
       "      <td>Actual ham</td>\n",
       "      <td>718</td>\n",
       "      <td>6</td>\n",
       "    </tr>\n",
       "    <tr>\n",
       "      <td>Actual Spam</td>\n",
       "      <td>7</td>\n",
       "      <td>105</td>\n",
       "    </tr>\n",
       "  </tbody>\n",
       "</table>\n",
       "</div>"
      ],
      "text/plain": [
       "             Predicted ham  Predicted Spam\n",
       "Actual ham             718               6\n",
       "Actual Spam              7             105"
      ]
     },
     "metadata": {},
     "output_type": "display_data"
    },
    {
     "name": "stdout",
     "output_type": "stream",
     "text": [
      "              precision    recall  f1-score   support\n",
      "\n",
      "           0       0.99      0.99      0.99       724\n",
      "           1       0.95      0.94      0.94       112\n",
      "\n",
      "    accuracy                           0.98       836\n",
      "   macro avg       0.97      0.96      0.97       836\n",
      "weighted avg       0.98      0.98      0.98       836\n",
      "\n"
     ]
    },
    {
     "data": {
      "text/html": [
       "<div>\n",
       "<style scoped>\n",
       "    .dataframe tbody tr th:only-of-type {\n",
       "        vertical-align: middle;\n",
       "    }\n",
       "\n",
       "    .dataframe tbody tr th {\n",
       "        vertical-align: top;\n",
       "    }\n",
       "\n",
       "    .dataframe thead th {\n",
       "        text-align: right;\n",
       "    }\n",
       "</style>\n",
       "<table border=\"1\" class=\"dataframe\">\n",
       "  <thead>\n",
       "    <tr style=\"text-align: right;\">\n",
       "      <th></th>\n",
       "      <th>Predicted ham</th>\n",
       "      <th>Predicted Spam</th>\n",
       "    </tr>\n",
       "  </thead>\n",
       "  <tbody>\n",
       "    <tr>\n",
       "      <td>Actual ham</td>\n",
       "      <td>718</td>\n",
       "      <td>6</td>\n",
       "    </tr>\n",
       "    <tr>\n",
       "      <td>Actual Spam</td>\n",
       "      <td>7</td>\n",
       "      <td>105</td>\n",
       "    </tr>\n",
       "  </tbody>\n",
       "</table>\n",
       "</div>"
      ],
      "text/plain": [
       "             Predicted ham  Predicted Spam\n",
       "Actual ham             718               6\n",
       "Actual Spam              7             105"
      ]
     },
     "metadata": {},
     "output_type": "display_data"
    },
    {
     "name": "stdout",
     "output_type": "stream",
     "text": [
      "              precision    recall  f1-score   support\n",
      "\n",
      "           0       0.99      0.99      0.99       724\n",
      "           1       0.94      0.93      0.93       112\n",
      "\n",
      "    accuracy                           0.98       836\n",
      "   macro avg       0.96      0.96      0.96       836\n",
      "weighted avg       0.98      0.98      0.98       836\n",
      "\n"
     ]
    },
    {
     "data": {
      "text/html": [
       "<div>\n",
       "<style scoped>\n",
       "    .dataframe tbody tr th:only-of-type {\n",
       "        vertical-align: middle;\n",
       "    }\n",
       "\n",
       "    .dataframe tbody tr th {\n",
       "        vertical-align: top;\n",
       "    }\n",
       "\n",
       "    .dataframe thead th {\n",
       "        text-align: right;\n",
       "    }\n",
       "</style>\n",
       "<table border=\"1\" class=\"dataframe\">\n",
       "  <thead>\n",
       "    <tr style=\"text-align: right;\">\n",
       "      <th></th>\n",
       "      <th>Predicted ham</th>\n",
       "      <th>Predicted Spam</th>\n",
       "    </tr>\n",
       "  </thead>\n",
       "  <tbody>\n",
       "    <tr>\n",
       "      <td>Actual ham</td>\n",
       "      <td>717</td>\n",
       "      <td>7</td>\n",
       "    </tr>\n",
       "    <tr>\n",
       "      <td>Actual Spam</td>\n",
       "      <td>8</td>\n",
       "      <td>104</td>\n",
       "    </tr>\n",
       "  </tbody>\n",
       "</table>\n",
       "</div>"
      ],
      "text/plain": [
       "             Predicted ham  Predicted Spam\n",
       "Actual ham             717               7\n",
       "Actual Spam              8             104"
      ]
     },
     "metadata": {},
     "output_type": "display_data"
    }
   ],
   "source": [
    "# Evaluate all the pretrained models with 3 layers \n",
    "evaluate(y_test, y_pred_tok_pretrained_three_6)\n",
    "evaluate(y_test, y_pred_tok_pretrained_three_12)\n",
    "evaluate(y_test, y_pred_tok_pretrained_three_16)\n",
    "evaluate(y_test, y_pred_tok_pretrained_three_36)"
   ]
  },
  {
   "cell_type": "code",
   "execution_count": 88,
   "metadata": {},
   "outputs": [
    {
     "name": "stdout",
     "output_type": "stream",
     "text": [
      "Train on 4736 samples, validate on 836 samples\n",
      "Epoch 1/20\n",
      "4736/4736 [==============================] - 15s 3ms/step - loss: 0.6769 - accuracy: 0.8638 - val_loss: 0.6429 - val_accuracy: 0.8660\n",
      "Epoch 2/20\n",
      "4736/4736 [==============================] - 11s 2ms/step - loss: 0.6109 - accuracy: 0.8659 - val_loss: 0.5610 - val_accuracy: 0.8660\n",
      "Epoch 3/20\n",
      "4736/4736 [==============================] - 11s 2ms/step - loss: 0.5225 - accuracy: 0.8659 - val_loss: 0.4691 - val_accuracy: 0.8660\n",
      "Epoch 4/20\n",
      "4736/4736 [==============================] - 14s 3ms/step - loss: 0.4372 - accuracy: 0.8659 - val_loss: 0.3802 - val_accuracy: 0.8660\n",
      "Epoch 5/20\n",
      "4736/4736 [==============================] - 11s 2ms/step - loss: 0.3604 - accuracy: 0.8659 - val_loss: 0.3090 - val_accuracy: 0.8660\n",
      "Epoch 6/20\n",
      "4736/4736 [==============================] - 12s 2ms/step - loss: 0.2946 - accuracy: 0.8659 - val_loss: 0.2479 - val_accuracy: 0.8660\n",
      "Epoch 7/20\n",
      "4736/4736 [==============================] - 12s 2ms/step - loss: 0.2452 - accuracy: 0.8659 - val_loss: 0.2022 - val_accuracy: 0.8660\n",
      "Epoch 8/20\n",
      "4736/4736 [==============================] - 12s 3ms/step - loss: 0.2026 - accuracy: 0.8659 - val_loss: 0.1739 - val_accuracy: 0.8660\n",
      "Epoch 9/20\n",
      "4736/4736 [==============================] - 11s 2ms/step - loss: 0.1795 - accuracy: 0.8659 - val_loss: 0.1625 - val_accuracy: 0.8660\n",
      "Epoch 10/20\n",
      "4736/4736 [==============================] - 11s 2ms/step - loss: 0.1647 - accuracy: 0.8659 - val_loss: 0.1491 - val_accuracy: 0.8660\n",
      "Epoch 11/20\n",
      "4736/4736 [==============================] - 14s 3ms/step - loss: 0.1546 - accuracy: 0.8659 - val_loss: 0.1455 - val_accuracy: 0.8660\n",
      "Epoch 12/20\n",
      "4736/4736 [==============================] - 15s 3ms/step - loss: 0.1471 - accuracy: 0.8659 - val_loss: 0.1403 - val_accuracy: 0.8660\n",
      "Epoch 13/20\n",
      "4736/4736 [==============================] - 16s 3ms/step - loss: 0.1415 - accuracy: 0.8659 - val_loss: 0.1414 - val_accuracy: 0.8660\n",
      "Epoch 14/20\n",
      "4736/4736 [==============================] - 15s 3ms/step - loss: 0.1390 - accuracy: 0.8659 - val_loss: 0.1344 - val_accuracy: 0.8660\n",
      "Epoch 15/20\n",
      "4736/4736 [==============================] - 14s 3ms/step - loss: 0.1319 - accuracy: 0.8659 - val_loss: 0.1361 - val_accuracy: 0.8660\n",
      "Epoch 16/20\n",
      "4736/4736 [==============================] - 14s 3ms/step - loss: 0.1264 - accuracy: 0.8999 - val_loss: 0.1416 - val_accuracy: 0.9749\n",
      "Epoch 17/20\n",
      "4736/4736 [==============================] - 14s 3ms/step - loss: 0.1243 - accuracy: 0.9704 - val_loss: 0.1378 - val_accuracy: 0.9773\n",
      "Epoch 18/20\n",
      "4736/4736 [==============================] - 13s 3ms/step - loss: 0.1201 - accuracy: 0.9732 - val_loss: 0.1346 - val_accuracy: 0.9797\n",
      "Epoch 19/20\n",
      "4736/4736 [==============================] - 14s 3ms/step - loss: 0.1185 - accuracy: 0.9768 - val_loss: 0.1359 - val_accuracy: 0.9785\n",
      "Epoch 20/20\n",
      "4736/4736 [==============================] - 15s 3ms/step - loss: 0.1130 - accuracy: 0.9774 - val_loss: 0.1316 - val_accuracy: 0.9785\n",
      "Train on 4736 samples, validate on 836 samples\n",
      "Epoch 1/20\n",
      "4736/4736 [==============================] - 14s 3ms/step - loss: 0.6152 - accuracy: 0.8642 - val_loss: 0.4971 - val_accuracy: 0.8660\n",
      "Epoch 2/20\n",
      "4736/4736 [==============================] - 12s 3ms/step - loss: 0.4285 - accuracy: 0.8655 - val_loss: 0.3601 - val_accuracy: 0.8660\n",
      "Epoch 3/20\n",
      "4736/4736 [==============================] - 12s 3ms/step - loss: 0.3402 - accuracy: 0.8659 - val_loss: 0.2790 - val_accuracy: 0.8660\n",
      "Epoch 4/20\n",
      "4736/4736 [==============================] - 12s 3ms/step - loss: 0.2660 - accuracy: 0.8659 - val_loss: 0.2287 - val_accuracy: 0.8660\n",
      "Epoch 5/20\n",
      "4736/4736 [==============================] - 12s 3ms/step - loss: 0.2147 - accuracy: 0.8659 - val_loss: 0.1856 - val_accuracy: 0.8660\n",
      "Epoch 6/20\n",
      "4736/4736 [==============================] - 12s 3ms/step - loss: 0.1736 - accuracy: 0.8659 - val_loss: 0.1455 - val_accuracy: 0.8660\n",
      "Epoch 7/20\n",
      "4736/4736 [==============================] - 12s 3ms/step - loss: 0.1470 - accuracy: 0.8659 - val_loss: 0.1350 - val_accuracy: 0.8660\n",
      "Epoch 8/20\n",
      "4736/4736 [==============================] - 12s 2ms/step - loss: 0.1387 - accuracy: 0.8659 - val_loss: 0.1329 - val_accuracy: 0.8660\n",
      "Epoch 9/20\n",
      "4736/4736 [==============================] - 13s 3ms/step - loss: 0.1315 - accuracy: 0.8659 - val_loss: 0.1292 - val_accuracy: 0.8660\n",
      "Epoch 10/20\n",
      "4736/4736 [==============================] - 14s 3ms/step - loss: 0.1250 - accuracy: 0.8659 - val_loss: 0.1264 - val_accuracy: 0.8660\n",
      "Epoch 11/20\n",
      "4736/4736 [==============================] - 14s 3ms/step - loss: 0.1223 - accuracy: 0.8799 - val_loss: 0.1250 - val_accuracy: 0.9749\n",
      "Epoch 12/20\n",
      "4736/4736 [==============================] - 14s 3ms/step - loss: 0.1183 - accuracy: 0.9871 - val_loss: 0.1292 - val_accuracy: 0.9761\n",
      "Epoch 13/20\n",
      "4736/4736 [==============================] - 14s 3ms/step - loss: 0.1153 - accuracy: 0.9873 - val_loss: 0.1254 - val_accuracy: 0.9809\n",
      "Epoch 14/20\n",
      "4736/4736 [==============================] - 14s 3ms/step - loss: 0.1092 - accuracy: 0.9856 - val_loss: 0.1250 - val_accuracy: 0.9856\n",
      "Epoch 15/20\n",
      "4736/4736 [==============================] - 14s 3ms/step - loss: 0.1082 - accuracy: 0.9890 - val_loss: 0.1232 - val_accuracy: 0.9868\n",
      "Epoch 16/20\n",
      "4736/4736 [==============================] - 13s 3ms/step - loss: 0.1033 - accuracy: 0.9930 - val_loss: 0.1227 - val_accuracy: 0.9856\n",
      "Epoch 17/20\n",
      "4736/4736 [==============================] - 12s 3ms/step - loss: 0.0971 - accuracy: 0.9951 - val_loss: 0.1202 - val_accuracy: 0.9868\n",
      "Epoch 18/20\n",
      "4736/4736 [==============================] - 12s 3ms/step - loss: 0.0960 - accuracy: 0.9960 - val_loss: 0.1251 - val_accuracy: 0.9773\n",
      "Epoch 19/20\n",
      "4736/4736 [==============================] - 12s 3ms/step - loss: 0.0870 - accuracy: 0.9935 - val_loss: 0.1057 - val_accuracy: 0.9844\n",
      "Epoch 20/20\n",
      "4736/4736 [==============================] - 12s 3ms/step - loss: 0.0706 - accuracy: 0.9888 - val_loss: 0.0869 - val_accuracy: 0.9844\n",
      "Train on 4736 samples, validate on 836 samples\n",
      "Epoch 1/20\n",
      "4736/4736 [==============================] - 16s 3ms/step - loss: 0.6386 - accuracy: 0.8311 - val_loss: 0.5379 - val_accuracy: 0.8660\n",
      "Epoch 2/20\n",
      "4736/4736 [==============================] - 14s 3ms/step - loss: 0.4616 - accuracy: 0.8659 - val_loss: 0.3797 - val_accuracy: 0.8660\n",
      "Epoch 3/20\n",
      "4736/4736 [==============================] - 14s 3ms/step - loss: 0.3596 - accuracy: 0.8659 - val_loss: 0.3003 - val_accuracy: 0.8660\n",
      "Epoch 4/20\n",
      "4736/4736 [==============================] - 14s 3ms/step - loss: 0.2756 - accuracy: 0.8659 - val_loss: 0.2324 - val_accuracy: 0.8660\n",
      "Epoch 5/20\n",
      "4736/4736 [==============================] - 14s 3ms/step - loss: 0.2118 - accuracy: 0.8659 - val_loss: 0.1823 - val_accuracy: 0.8660\n",
      "Epoch 6/20\n",
      "4736/4736 [==============================] - 14s 3ms/step - loss: 0.1684 - accuracy: 0.8744 - val_loss: 0.1467 - val_accuracy: 0.9354\n",
      "Epoch 7/20\n",
      "4736/4736 [==============================] - 14s 3ms/step - loss: 0.1338 - accuracy: 0.9660 - val_loss: 0.1197 - val_accuracy: 0.9809\n",
      "Epoch 8/20\n",
      "4736/4736 [==============================] - 14s 3ms/step - loss: 0.1120 - accuracy: 0.9795 - val_loss: 0.0988 - val_accuracy: 0.9821\n",
      "Epoch 9/20\n",
      "4736/4736 [==============================] - 14s 3ms/step - loss: 0.0868 - accuracy: 0.9816 - val_loss: 0.0697 - val_accuracy: 0.9868\n",
      "Epoch 10/20\n",
      "4736/4736 [==============================] - 13s 3ms/step - loss: 0.0606 - accuracy: 0.9859 - val_loss: 0.0669 - val_accuracy: 0.9785\n",
      "Epoch 11/20\n",
      "4736/4736 [==============================] - 13s 3ms/step - loss: 0.0496 - accuracy: 0.9871 - val_loss: 0.0759 - val_accuracy: 0.9761\n",
      "Epoch 12/20\n",
      "4736/4736 [==============================] - 13s 3ms/step - loss: 0.0378 - accuracy: 0.9901 - val_loss: 0.0476 - val_accuracy: 0.9868\n",
      "Epoch 13/20\n",
      "4736/4736 [==============================] - 13s 3ms/step - loss: 0.0279 - accuracy: 0.9945 - val_loss: 0.0458 - val_accuracy: 0.9880\n",
      "Epoch 14/20\n",
      "4736/4736 [==============================] - 13s 3ms/step - loss: 0.0237 - accuracy: 0.9958 - val_loss: 0.0562 - val_accuracy: 0.9833\n",
      "Epoch 15/20\n",
      "4736/4736 [==============================] - 12s 3ms/step - loss: 0.0206 - accuracy: 0.9962 - val_loss: 0.0452 - val_accuracy: 0.9892\n",
      "Epoch 16/20\n"
     ]
    },
    {
     "name": "stdout",
     "output_type": "stream",
     "text": [
      "4736/4736 [==============================] - 12s 3ms/step - loss: 0.0184 - accuracy: 0.9973 - val_loss: 0.0510 - val_accuracy: 0.9892\n",
      "Epoch 17/20\n",
      "4736/4736 [==============================] - 12s 3ms/step - loss: 0.0157 - accuracy: 0.9975 - val_loss: 0.0483 - val_accuracy: 0.9892\n",
      "Epoch 18/20\n",
      "4736/4736 [==============================] - 12s 3ms/step - loss: 0.0141 - accuracy: 0.9975 - val_loss: 0.0564 - val_accuracy: 0.9868\n",
      "Epoch 19/20\n",
      "4736/4736 [==============================] - 12s 3ms/step - loss: 0.0110 - accuracy: 0.9981 - val_loss: 0.0520 - val_accuracy: 0.9880\n",
      "Epoch 20/20\n",
      "4736/4736 [==============================] - 12s 3ms/step - loss: 0.0095 - accuracy: 0.9985 - val_loss: 0.0581 - val_accuracy: 0.9868\n",
      "Train on 4736 samples, validate on 836 samples\n",
      "Epoch 1/20\n",
      "4736/4736 [==============================] - 15s 3ms/step - loss: 0.6191 - accuracy: 0.7703 - val_loss: 0.4748 - val_accuracy: 0.8660\n",
      "Epoch 2/20\n",
      "4736/4736 [==============================] - 12s 3ms/step - loss: 0.4100 - accuracy: 0.8659 - val_loss: 0.3485 - val_accuracy: 0.8660\n",
      "Epoch 3/20\n",
      "4736/4736 [==============================] - 12s 3ms/step - loss: 0.3022 - accuracy: 0.8659 - val_loss: 0.2434 - val_accuracy: 0.8660\n",
      "Epoch 4/20\n",
      "4736/4736 [==============================] - 12s 3ms/step - loss: 0.2136 - accuracy: 0.8659 - val_loss: 0.1849 - val_accuracy: 0.8660\n",
      "Epoch 5/20\n",
      "4736/4736 [==============================] - 12s 3ms/step - loss: 0.1647 - accuracy: 0.9039 - val_loss: 0.1497 - val_accuracy: 0.9605\n",
      "Epoch 6/20\n",
      "4736/4736 [==============================] - 12s 3ms/step - loss: 0.1293 - accuracy: 0.9702 - val_loss: 0.1169 - val_accuracy: 0.9821\n",
      "Epoch 7/20\n",
      "4736/4736 [==============================] - 12s 3ms/step - loss: 0.0927 - accuracy: 0.9829 - val_loss: 0.0847 - val_accuracy: 0.9880\n",
      "Epoch 8/20\n",
      "4736/4736 [==============================] - 12s 3ms/step - loss: 0.0502 - accuracy: 0.9903 - val_loss: 0.0607 - val_accuracy: 0.9868\n",
      "Epoch 9/20\n",
      "4736/4736 [==============================] - 12s 3ms/step - loss: 0.0246 - accuracy: 0.9932 - val_loss: 0.0600 - val_accuracy: 0.9892\n",
      "Epoch 10/20\n",
      "4736/4736 [==============================] - 12s 3ms/step - loss: 0.0156 - accuracy: 0.9966 - val_loss: 0.0642 - val_accuracy: 0.9856\n",
      "Epoch 11/20\n",
      "4736/4736 [==============================] - 12s 3ms/step - loss: 0.0112 - accuracy: 0.9979 - val_loss: 0.0653 - val_accuracy: 0.9880\n",
      "Epoch 12/20\n",
      "4736/4736 [==============================] - 12s 3ms/step - loss: 0.0073 - accuracy: 0.9985 - val_loss: 0.0716 - val_accuracy: 0.9880\n",
      "Epoch 13/20\n",
      "4736/4736 [==============================] - 12s 3ms/step - loss: 0.0049 - accuracy: 0.9994 - val_loss: 0.0802 - val_accuracy: 0.9833\n",
      "Epoch 14/20\n",
      "4736/4736 [==============================] - 12s 3ms/step - loss: 0.0038 - accuracy: 0.9994 - val_loss: 0.0800 - val_accuracy: 0.9833\n",
      "Epoch 15/20\n",
      "4736/4736 [==============================] - 12s 3ms/step - loss: 0.0033 - accuracy: 0.9994 - val_loss: 0.0808 - val_accuracy: 0.9856\n",
      "Epoch 16/20\n",
      "4736/4736 [==============================] - 12s 3ms/step - loss: 0.0023 - accuracy: 0.9996 - val_loss: 0.0783 - val_accuracy: 0.9880\n",
      "Epoch 17/20\n",
      "4736/4736 [==============================] - 12s 3ms/step - loss: 0.0018 - accuracy: 0.9996 - val_loss: 0.0789 - val_accuracy: 0.9868\n",
      "Epoch 18/20\n",
      "4736/4736 [==============================] - 12s 3ms/step - loss: 0.0016 - accuracy: 0.9996 - val_loss: 0.0766 - val_accuracy: 0.9880\n",
      "Epoch 19/20\n",
      "4736/4736 [==============================] - 12s 3ms/step - loss: 0.0012 - accuracy: 0.9998 - val_loss: 0.0837 - val_accuracy: 0.9844\n",
      "Epoch 20/20\n",
      "4736/4736 [==============================] - 13s 3ms/step - loss: 0.0012 - accuracy: 0.9998 - val_loss: 0.0812 - val_accuracy: 0.9880\n"
     ]
    }
   ],
   "source": [
    "history_tok_pretrained_six_6, y_pred_tok_pretrained_six_6, model_tok_pretrained_six_6 = pretrainedGRU_L6(6)\n",
    "history_tok_pretrained_six_12, y_pred_tok_pretrained_six_12, model_tok_pretrained_six_12 = pretrainedGRU_L6(12)\n",
    "history_tok_pretrained_six_16, y_pred_tok_pretrained_six_16, model_tok_pretrained_six_16 = pretrainedGRU_L6(16)\n",
    "history_tok_pretrained_six_36, y_pred_tok_pretrained_six_36, model_tok_pretrained_six_36 = pretrainedGRU_L6(36)"
   ]
  },
  {
   "cell_type": "code",
   "execution_count": 89,
   "metadata": {},
   "outputs": [],
   "source": [
    "# Get the precision, recall, and the \n",
    "pr_tok_pretrained_six_6, rc_tok_pretrained_six_6, thresholds_tok_pretrained_six_6 = precision_recall_curve(y_test, y_pred_tok_pretrained_six_6)\n",
    "pr_tok_pretrained_six_12, rc_tok_pretrained_six_12, thresholds_tok_pretrained_six_12 = precision_recall_curve(y_test, y_pred_tok_pretrained_six_12)\n",
    "pr_tok_pretrained_six_16, rc_tok_pretrained_six_16, thresholds_tok_pretrained_six_16 = precision_recall_curve(y_test, y_pred_tok_pretrained_six_16)\n",
    "pr_tok_pretrained_six_36, rc_tok_pretrained_six_36, thresholds_tok_pretrained_six_36 = precision_recall_curve(y_test, y_pred_tok_pretrained_six_36)\n"
   ]
  },
  {
   "cell_type": "code",
   "execution_count": 90,
   "metadata": {},
   "outputs": [
    {
     "name": "stdout",
     "output_type": "stream",
     "text": [
      "              precision    recall  f1-score   support\n",
      "\n",
      "           0       0.99      0.99      0.99       724\n",
      "           1       0.95      0.94      0.94       112\n",
      "\n",
      "    accuracy                           0.98       836\n",
      "   macro avg       0.97      0.96      0.97       836\n",
      "weighted avg       0.98      0.98      0.98       836\n",
      "\n"
     ]
    },
    {
     "data": {
      "text/html": [
       "<div>\n",
       "<style scoped>\n",
       "    .dataframe tbody tr th:only-of-type {\n",
       "        vertical-align: middle;\n",
       "    }\n",
       "\n",
       "    .dataframe tbody tr th {\n",
       "        vertical-align: top;\n",
       "    }\n",
       "\n",
       "    .dataframe thead th {\n",
       "        text-align: right;\n",
       "    }\n",
       "</style>\n",
       "<table border=\"1\" class=\"dataframe\">\n",
       "  <thead>\n",
       "    <tr style=\"text-align: right;\">\n",
       "      <th></th>\n",
       "      <th>Predicted ham</th>\n",
       "      <th>Predicted Spam</th>\n",
       "    </tr>\n",
       "  </thead>\n",
       "  <tbody>\n",
       "    <tr>\n",
       "      <td>Actual ham</td>\n",
       "      <td>718</td>\n",
       "      <td>6</td>\n",
       "    </tr>\n",
       "    <tr>\n",
       "      <td>Actual Spam</td>\n",
       "      <td>7</td>\n",
       "      <td>105</td>\n",
       "    </tr>\n",
       "  </tbody>\n",
       "</table>\n",
       "</div>"
      ],
      "text/plain": [
       "             Predicted ham  Predicted Spam\n",
       "Actual ham             718               6\n",
       "Actual Spam              7             105"
      ]
     },
     "metadata": {},
     "output_type": "display_data"
    },
    {
     "name": "stdout",
     "output_type": "stream",
     "text": [
      "              precision    recall  f1-score   support\n",
      "\n",
      "           0       0.99      0.99      0.99       724\n",
      "           1       0.95      0.95      0.95       112\n",
      "\n",
      "    accuracy                           0.99       836\n",
      "   macro avg       0.97      0.97      0.97       836\n",
      "weighted avg       0.99      0.99      0.99       836\n",
      "\n"
     ]
    },
    {
     "data": {
      "text/html": [
       "<div>\n",
       "<style scoped>\n",
       "    .dataframe tbody tr th:only-of-type {\n",
       "        vertical-align: middle;\n",
       "    }\n",
       "\n",
       "    .dataframe tbody tr th {\n",
       "        vertical-align: top;\n",
       "    }\n",
       "\n",
       "    .dataframe thead th {\n",
       "        text-align: right;\n",
       "    }\n",
       "</style>\n",
       "<table border=\"1\" class=\"dataframe\">\n",
       "  <thead>\n",
       "    <tr style=\"text-align: right;\">\n",
       "      <th></th>\n",
       "      <th>Predicted ham</th>\n",
       "      <th>Predicted Spam</th>\n",
       "    </tr>\n",
       "  </thead>\n",
       "  <tbody>\n",
       "    <tr>\n",
       "      <td>Actual ham</td>\n",
       "      <td>719</td>\n",
       "      <td>5</td>\n",
       "    </tr>\n",
       "    <tr>\n",
       "      <td>Actual Spam</td>\n",
       "      <td>6</td>\n",
       "      <td>106</td>\n",
       "    </tr>\n",
       "  </tbody>\n",
       "</table>\n",
       "</div>"
      ],
      "text/plain": [
       "             Predicted ham  Predicted Spam\n",
       "Actual ham             719               5\n",
       "Actual Spam              6             106"
      ]
     },
     "metadata": {},
     "output_type": "display_data"
    },
    {
     "name": "stdout",
     "output_type": "stream",
     "text": [
      "              precision    recall  f1-score   support\n",
      "\n",
      "           0       0.99      0.99      0.99       724\n",
      "           1       0.96      0.96      0.96       112\n",
      "\n",
      "    accuracy                           0.99       836\n",
      "   macro avg       0.98      0.97      0.98       836\n",
      "weighted avg       0.99      0.99      0.99       836\n",
      "\n"
     ]
    },
    {
     "data": {
      "text/html": [
       "<div>\n",
       "<style scoped>\n",
       "    .dataframe tbody tr th:only-of-type {\n",
       "        vertical-align: middle;\n",
       "    }\n",
       "\n",
       "    .dataframe tbody tr th {\n",
       "        vertical-align: top;\n",
       "    }\n",
       "\n",
       "    .dataframe thead th {\n",
       "        text-align: right;\n",
       "    }\n",
       "</style>\n",
       "<table border=\"1\" class=\"dataframe\">\n",
       "  <thead>\n",
       "    <tr style=\"text-align: right;\">\n",
       "      <th></th>\n",
       "      <th>Predicted ham</th>\n",
       "      <th>Predicted Spam</th>\n",
       "    </tr>\n",
       "  </thead>\n",
       "  <tbody>\n",
       "    <tr>\n",
       "      <td>Actual ham</td>\n",
       "      <td>720</td>\n",
       "      <td>4</td>\n",
       "    </tr>\n",
       "    <tr>\n",
       "      <td>Actual Spam</td>\n",
       "      <td>5</td>\n",
       "      <td>107</td>\n",
       "    </tr>\n",
       "  </tbody>\n",
       "</table>\n",
       "</div>"
      ],
      "text/plain": [
       "             Predicted ham  Predicted Spam\n",
       "Actual ham             720               4\n",
       "Actual Spam              5             107"
      ]
     },
     "metadata": {},
     "output_type": "display_data"
    },
    {
     "name": "stdout",
     "output_type": "stream",
     "text": [
      "              precision    recall  f1-score   support\n",
      "\n",
      "           0       0.99      0.99      0.99       724\n",
      "           1       0.96      0.96      0.96       112\n",
      "\n",
      "    accuracy                           0.99       836\n",
      "   macro avg       0.98      0.97      0.98       836\n",
      "weighted avg       0.99      0.99      0.99       836\n",
      "\n"
     ]
    },
    {
     "data": {
      "text/html": [
       "<div>\n",
       "<style scoped>\n",
       "    .dataframe tbody tr th:only-of-type {\n",
       "        vertical-align: middle;\n",
       "    }\n",
       "\n",
       "    .dataframe tbody tr th {\n",
       "        vertical-align: top;\n",
       "    }\n",
       "\n",
       "    .dataframe thead th {\n",
       "        text-align: right;\n",
       "    }\n",
       "</style>\n",
       "<table border=\"1\" class=\"dataframe\">\n",
       "  <thead>\n",
       "    <tr style=\"text-align: right;\">\n",
       "      <th></th>\n",
       "      <th>Predicted ham</th>\n",
       "      <th>Predicted Spam</th>\n",
       "    </tr>\n",
       "  </thead>\n",
       "  <tbody>\n",
       "    <tr>\n",
       "      <td>Actual ham</td>\n",
       "      <td>720</td>\n",
       "      <td>4</td>\n",
       "    </tr>\n",
       "    <tr>\n",
       "      <td>Actual Spam</td>\n",
       "      <td>5</td>\n",
       "      <td>107</td>\n",
       "    </tr>\n",
       "  </tbody>\n",
       "</table>\n",
       "</div>"
      ],
      "text/plain": [
       "             Predicted ham  Predicted Spam\n",
       "Actual ham             720               4\n",
       "Actual Spam              5             107"
      ]
     },
     "metadata": {},
     "output_type": "display_data"
    }
   ],
   "source": [
    "# Evaluate all the pretrained models with 6 layers \n",
    "evaluate(y_test, y_pred_tok_pretrained_six_6)\n",
    "evaluate(y_test, y_pred_tok_pretrained_six_12)\n",
    "evaluate(y_test, y_pred_tok_pretrained_six_16)\n",
    "evaluate(y_test, y_pred_tok_pretrained_six_36)"
   ]
  },
  {
   "cell_type": "code",
   "execution_count": 65,
   "metadata": {},
   "outputs": [],
   "source": [
    "# Export the best pretrained-layer model\n",
    "model_tok_pretrained_six_36.save('rnn_model/gru_tok_embedding_pretrained.h5') "
   ]
  },
  {
   "cell_type": "code",
   "execution_count": 91,
   "metadata": {},
   "outputs": [
    {
     "data": {
      "image/png": "[encoded data removed]",
      "text/plain": [
       "<Figure size 432x288 with 1 Axes>"
      ]
     },
     "metadata": {},
     "output_type": "display_data"
    }
   ],
   "source": [
    "# Plot the precision and recall plot\n",
    "plt.plot(rc_tok_pretrained_six_6, pr_tok_pretrained_six_6, linestyle='--', label='L6-6 node')\n",
    "plt.plot(rc_tok_pretrained_six_12, pr_tok_pretrained_six_12, linestyle='--', label='L6-12 node')\n",
    "plt.plot(rc_tok_pretrained_six_16, pr_tok_pretrained_six_16, linestyle='--', label='L6-16 node')\n",
    "plt.plot(rc_tok_pretrained_six_36, pr_tok_pretrained_six_36, linestyle='--', label='L6-36 node')\n",
    "# axis labels\n",
    "plt.xlabel('Recall')\n",
    "plt.ylabel('Precision')\n",
    "# show the legend\n",
    "plt.legend()\n",
    "# show the plot\n",
    "plt.show()"
   ]
  },
  {
   "cell_type": "code",
   "execution_count": null,
   "metadata": {},
   "outputs": [],
   "source": []
  }
 ],
 "metadata": {
  "kernelspec": {
   "display_name": "Python 3",
   "language": "python",
   "name": "python3"
  },
  "language_info": {
   "codemirror_mode": {
    "name": "ipython",
    "version": 3
   },
   "file_extension": ".py",
   "mimetype": "text/x-python",
   "name": "python",
   "nbconvert_exporter": "python",
   "pygments_lexer": "ipython3",
   "version": "3.6.5"
  }
 },
 "nbformat": 4,
 "nbformat_minor": 2
}
